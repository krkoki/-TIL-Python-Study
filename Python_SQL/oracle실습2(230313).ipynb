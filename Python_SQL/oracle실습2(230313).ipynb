{
 "cells": [
  {
   "cell_type": "code",
   "execution_count": 2,
   "metadata": {},
   "outputs": [
    {
     "data": {
      "text/html": [
       "<div>\n",
       "<style scoped>\n",
       "    .dataframe tbody tr th:only-of-type {\n",
       "        vertical-align: middle;\n",
       "    }\n",
       "\n",
       "    .dataframe tbody tr th {\n",
       "        vertical-align: top;\n",
       "    }\n",
       "\n",
       "    .dataframe thead th {\n",
       "        text-align: right;\n",
       "    }\n",
       "</style>\n",
       "<table border=\"1\" class=\"dataframe\">\n",
       "  <thead>\n",
       "    <tr style=\"text-align: right;\">\n",
       "      <th></th>\n",
       "      <th>SepalLength</th>\n",
       "      <th>SepalWidth</th>\n",
       "      <th>PetalLength</th>\n",
       "      <th>PetalWidth</th>\n",
       "      <th>Name</th>\n",
       "      <th>Species</th>\n",
       "    </tr>\n",
       "  </thead>\n",
       "  <tbody>\n",
       "    <tr>\n",
       "      <th>0</th>\n",
       "      <td>5.1</td>\n",
       "      <td>3.5</td>\n",
       "      <td>1.4</td>\n",
       "      <td>0.2</td>\n",
       "      <td>setosa</td>\n",
       "      <td>0</td>\n",
       "    </tr>\n",
       "    <tr>\n",
       "      <th>1</th>\n",
       "      <td>4.9</td>\n",
       "      <td>3.0</td>\n",
       "      <td>1.4</td>\n",
       "      <td>0.2</td>\n",
       "      <td>setosa</td>\n",
       "      <td>0</td>\n",
       "    </tr>\n",
       "    <tr>\n",
       "      <th>2</th>\n",
       "      <td>4.7</td>\n",
       "      <td>3.2</td>\n",
       "      <td>1.3</td>\n",
       "      <td>0.2</td>\n",
       "      <td>setosa</td>\n",
       "      <td>0</td>\n",
       "    </tr>\n",
       "    <tr>\n",
       "      <th>3</th>\n",
       "      <td>4.6</td>\n",
       "      <td>3.1</td>\n",
       "      <td>1.5</td>\n",
       "      <td>0.2</td>\n",
       "      <td>setosa</td>\n",
       "      <td>0</td>\n",
       "    </tr>\n",
       "    <tr>\n",
       "      <th>4</th>\n",
       "      <td>5.0</td>\n",
       "      <td>3.6</td>\n",
       "      <td>1.4</td>\n",
       "      <td>0.2</td>\n",
       "      <td>setosa</td>\n",
       "      <td>0</td>\n",
       "    </tr>\n",
       "  </tbody>\n",
       "</table>\n",
       "</div>"
      ],
      "text/plain": [
       "   SepalLength  SepalWidth  PetalLength  PetalWidth    Name  Species\n",
       "0          5.1         3.5          1.4         0.2  setosa        0\n",
       "1          4.9         3.0          1.4         0.2  setosa        0\n",
       "2          4.7         3.2          1.3         0.2  setosa        0\n",
       "3          4.6         3.1          1.5         0.2  setosa        0\n",
       "4          5.0         3.6          1.4         0.2  setosa        0"
      ]
     },
     "execution_count": 2,
     "metadata": {},
     "output_type": "execute_result"
    }
   ],
   "source": [
    "import pandas as pd\n",
    "df = pd.read_csv(\"d:/workspace/Python2/data/iris/iris.csv\")\n",
    "df.head()"
   ]
  },
  {
   "cell_type": "code",
   "execution_count": 3,
   "metadata": {},
   "outputs": [
    {
     "data": {
      "text/plain": [
       "150"
      ]
     },
     "execution_count": 3,
     "metadata": {},
     "output_type": "execute_result"
    }
   ],
   "source": [
    "from sqlalchemy import create_engine\n",
    "import cx_Oracle\n",
    "\n",
    "# oracle server에 접속하기 위한 엔진 생성\n",
    "engine = create_engine('oracle+cx_oracle://python:1234@xe') # oracle_cx_oracle://아이디:비번@db\n",
    "conn=engine.connect()\n",
    "\n",
    "# 데이터프레임의 내용을 테이블로 export\n",
    "df.to_sql(name='iris', con=engine, if_exists='replace', index=False)"
   ]
  },
  {
   "attachments": {},
   "cell_type": "markdown",
   "metadata": {},
   "source": [
    "항공운항 테이블 실습"
   ]
  },
  {
   "cell_type": "code",
   "execution_count": 11,
   "metadata": {},
   "outputs": [
    {
     "name": "stdout",
     "output_type": "stream",
     "text": [
      "(2007, 1, 2, 2, '1716', 1715, '1820', 1830, 'WN', '1854', 'N323', '64', '75', '55', '-10', '1', 'ALB', 'BWI', '288', '3', '6', '0', None, '0', '0', '0', '0', '0', '0')\n",
      "(2007, 1, 2, 2, '723', 725, '831', 835, 'WN', '2612', 'N362', '68', '70', '59', '-4', '-2', 'ALB', 'BWI', '288', '3', '6', '0', None, '0', '0', '0', '0', '0', '0')\n",
      "(2007, 1, 2, 2, '1426', 1425, '1653', 1710, 'WN', '768', 'N402', '327', '345', '287', '-17', '1', 'ALB', 'LAS', '2237', '30', '10', '0', None, '0', '0', '0', '0', '0', '0')\n",
      "(2007, 1, 2, 2, '1905', 1905, '2205', 2210, 'WN', '1090', 'N716SW', '180', '185', '160', '-5', '0', 'ALB', 'MCO', '1073', '15', '5', '0', None, '0', '0', '0', '0', '0', '0')\n"
     ]
    }
   ],
   "source": [
    "import cx_Oracle\n",
    "conn = cx_Oracle.connect(\"python/1234@localhost:1521/xe\")\n",
    "cursor = conn.cursor()                      \n",
    "cursor.execute('select * from ontime where rownum < 5')\n",
    "rows = cursor.fetchall()         \n",
    "for row in rows:\n",
    "    print(row)\n",
    "cursor.close()  \n",
    "conn.close()"
   ]
  },
  {
   "cell_type": "code",
   "execution_count": 7,
   "metadata": {},
   "outputs": [
    {
     "name": "stdout",
     "output_type": "stream",
     "text": [
      "XE\t11.6\n",
      "UA\t13.6\n",
      "F9\t7.4\n",
      "NW\t8.8\n",
      "AA\t14.3\n",
      "FL\t8.9\n",
      "AQ\t0.4\n",
      "AS\t10.6\n",
      "OH\t12.1\n",
      "OO\t8.1\n",
      "CO\t11.7\n",
      "YV\t11.9\n",
      "HA\t-0.9\n",
      "WN\t10.3\n",
      "US\t11.9\n",
      "MQ\t12.6\n",
      "9E\t8.8\n",
      "EV\t19.6\n",
      "DL\t7.7\n",
      "B6\t14.5\n"
     ]
    }
   ],
   "source": [
    "# 항공사별 출발 지연시간 평균\n",
    "import cx_Oracle\n",
    "conn = cx_Oracle.connect(\"python/1234@localhost:1521/xe\")\n",
    "cursor = conn.cursor()\n",
    "cursor.execute('''select uniquecarrier, avg(depdelay) from ontime\n",
    "group by uniquecarrier''')\n",
    "rows = cursor.fetchall()\n",
    "for row in rows:\n",
    "    print(f'{row[0]}\\t{round(row[1], 1)}') # python 코드에서 round 함수를 사용\n",
    "cursor.close()\n",
    "conn.close()"
   ]
  },
  {
   "cell_type": "code",
   "execution_count": 16,
   "metadata": {},
   "outputs": [
    {
     "name": "stdout",
     "output_type": "stream",
     "text": [
      "NW\t12.3\n",
      "XE\t9.7\n",
      "UA\t12.4\n",
      "F9\t7.4\n",
      "AA\t14\n",
      "FL\t7.8\n",
      "AQ\t-1.4\n",
      "AS\t9.1\n",
      "OO\t8.6\n",
      "OH\t12.6\n",
      "CO\t10.1\n",
      "YV\t10.5\n",
      "HA\t-0.4\n",
      "WN\t5.4\n",
      "US\t11.3\n",
      "9E\t7.9\n",
      "MQ\t12.4\n",
      "EV\t16.6\n",
      "DL\t7.2\n",
      "B6\t13.1\n"
     ]
    }
   ],
   "source": [
    "# 항공사별 도착 지연시간 평균\n",
    "import cx_Oracle\n",
    "conn = cx_Oracle.connect(\"python/1234@localhost:1521/xe\")\n",
    "cursor = conn.cursor()\n",
    "cursor.execute('''select uniquecarrier, round(avg(arrdelay), 1) from ontime\n",
    "group by uniquecarrier''') # SQL문에서 round 함수를 사용\n",
    "rows = cursor.fetchall()\n",
    "for row in rows:\n",
    "    print(f'{row[0]}\\t{row[1]}')\n",
    "\n",
    "cursor.close()\n",
    "conn.close()"
   ]
  },
  {
   "cell_type": "code",
   "execution_count": 24,
   "metadata": {},
   "outputs": [
    {
     "name": "stdout",
     "output_type": "stream",
     "text": [
      "(1, 286334)\n",
      "(2, 284152)\n",
      "(3, 293360)\n",
      "(4, 273055)\n",
      "(5, 275332)\n",
      "(6, 326446)\n",
      "(7, 326559)\n",
      "(8, 317197)\n",
      "(9, 225751)\n",
      "(10, 270098)\n",
      "(11, 242722)\n",
      "(12, 332449)\n"
     ]
    }
   ],
   "source": [
    "# 2007년 도착지연횟수 월별 집계\n",
    "import cx_Oracle\n",
    "conn = cx_Oracle.connect(\"python/1234@localhost:1521/xe\")\n",
    "cursor = conn.cursor()\n",
    "cursor.execute('''select month, count(*) from ontime where year=2007 and arrdelay > 0\n",
    "group by month order by month''')\n",
    "rows = cursor.fetchall()\n",
    "for row in rows:\n",
    "    print(row)\n",
    "cursor.close()\n",
    "conn.close()\n"
   ]
  },
  {
   "cell_type": "code",
   "execution_count": 25,
   "metadata": {},
   "outputs": [
    {
     "name": "stdout",
     "output_type": "stream",
     "text": [
      "[1, 2, 3, 4, 5, 6, 7, 8, 9, 10, 11, 12]\n",
      "[286334, 284152, 293360, 273055, 275332, 326446, 326559, 317197, 225751, 270098, 242722, 332449]\n"
     ]
    }
   ],
   "source": [
    "x=list(range(1,13))\n",
    "y=[]\n",
    "for row in rows:\n",
    "    y.append(row[1])\n",
    "print(x)\n",
    "print(y)"
   ]
  },
  {
   "cell_type": "code",
   "execution_count": 26,
   "metadata": {},
   "outputs": [
    {
     "data": {
      "image/png": "[encoded data removed]",
      "text/plain": [
       "<Figure size 640x480 with 1 Axes>"
      ]
     },
     "metadata": {},
     "output_type": "display_data"
    }
   ],
   "source": [
    "import matplotlib.pyplot as plt\n",
    "plt.plot(x,y)\n",
    "plt.bar(x,y)\n",
    "plt.show()"
   ]
  },
  {
   "cell_type": "code",
   "execution_count": 27,
   "metadata": {},
   "outputs": [
    {
     "name": "stdout",
     "output_type": "stream",
     "text": [
      "(6, 5.735648821755891)\n",
      "(7, 10.097206685656515)\n",
      "(1, 10.280262729735707)\n",
      "(2, 8.047561475371838)\n",
      "(5, 12.747663814379557)\n",
      "(4, 12.363173179756918)\n",
      "(3, 9.697532644293378)\n"
     ]
    }
   ],
   "source": [
    "#요일별 평균 지연 시간\n",
    "import cx_Oracle\n",
    "conn = cx_Oracle.connect(\"python/1234@localhost:1521/xe\")\n",
    "cursor = conn.cursor()                      \n",
    "cursor.execute('''select dayofweek, avg(arrdelay)\n",
    "from ontime\n",
    "group by dayofweek''')    \n",
    "rows = cursor.fetchall()         \n",
    "for row in rows:\n",
    "    print(row)\n",
    "\n",
    "cursor.close()\n",
    "conn.close()"
   ]
  },
  {
   "cell_type": "code",
   "execution_count": 28,
   "metadata": {},
   "outputs": [
    {
     "name": "stdout",
     "output_type": "stream",
     "text": [
      "['월', '화', '수', '목', '금', '토', '일']\n",
      "[5.735648821755891, 10.097206685656515, 10.280262729735707, 8.047561475371838, 12.747663814379557, 12.363173179756918, 9.697532644293378]\n"
     ]
    }
   ],
   "source": [
    "x=['월','화','수','목','금','토','일']\n",
    "y=[]\n",
    "for row in rows:\n",
    "    y.append(row[1])\n",
    "print(x)\n",
    "print(y)"
   ]
  },
  {
   "cell_type": "code",
   "execution_count": 29,
   "metadata": {},
   "outputs": [
    {
     "data": {
      "image/png": "[encoded data removed]",
      "text/plain": [
       "<Figure size 640x480 with 1 Axes>"
      ]
     },
     "metadata": {},
     "output_type": "display_data"
    }
   ],
   "source": [
    "import matplotlib.pyplot as plt\n",
    "from matplotlib import rc,font_manager\n",
    "font_name=font_manager.FontProperties(fname='c:/windows/fonts/gulim.ttc').get_name()\n",
    "rc('font',family=font_name)\n",
    "plt.plot(x,y)\n",
    "plt.bar(x,y)\n",
    "plt.show()"
   ]
  },
  {
   "cell_type": "code",
   "execution_count": 30,
   "metadata": {},
   "outputs": [
    {
     "name": "stdout",
     "output_type": "stream",
     "text": [
      "(1, 1924, -47)\n",
      "(2, 2257, -32)\n",
      "(3, 300, -29.4)\n",
      "(4, 2244, -20)\n",
      "(5, 1801, -18.6)\n"
     ]
    }
   ],
   "source": [
    "#시간대별( 10월, 월요일에 출발할 때 가장 좋은 시간대는? )\n",
    "import cx_Oracle\n",
    "conn = cx_Oracle.connect(\"python/1234@localhost:1521/xe\")\n",
    "cursor = conn.cursor()                      \n",
    "cursor.execute('''\n",
    "select *\n",
    "from (\n",
    "    select rownum as rn, A.*\n",
    "    from (\n",
    "select CRSDepTime, avg(arrdelay) arrdelay\n",
    "from ontime\n",
    "where month=10  and dayofweek=1\n",
    "group by CRSDepTime\n",
    "order by arrdelay\n",
    "    ) A\n",
    ") where rn between 1 and 5\n",
    "''') # SUB 쿼리 = 쿼리 = 서브쿼리의 조건의 조건중 조건(서브쿼리 = 서브쿼리의 조건중 조건(서브쿼리 = 전체중조건)) 형태\n",
    "rows = cursor.fetchall()         \n",
    "for row in rows:\n",
    "    print(row)\n",
    "cursor.close()\n",
    "conn.close()"
   ]
  }
 ],
 "metadata": {
  "kernelspec": {
   "display_name": "base",
   "language": "python",
   "name": "python3"
  },
  "language_info": {
   "codemirror_mode": {
    "name": "ipython",
    "version": 3
   },
   "file_extension": ".py",
   "mimetype": "text/x-python",
   "name": "python",
   "nbconvert_exporter": "python",
   "pygments_lexer": "ipython3",
   "version": "3.9.13"
  },
  "orig_nbformat": 4
 },
 "nbformat": 4,
 "nbformat_minor": 2
}
