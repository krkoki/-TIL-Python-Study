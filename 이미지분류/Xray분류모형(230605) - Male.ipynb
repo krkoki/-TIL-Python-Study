{
 "cells": [
  {
   "cell_type": "code",
   "execution_count": 1,
   "metadata": {},
   "outputs": [
    {
     "name": "stdout",
     "output_type": "stream",
     "text": [
      "[PhysicalDevice(name='/physical_device:GPU:0', device_type='GPU')]\n"
     ]
    }
   ],
   "source": [
    "import tensorflow as tf\n",
    "\n",
    "gpus = tf.config.experimental.list_physical_devices('GPU')\n",
    "print(gpus)\n",
    "if gpus:\n",
    "    try:\n",
    "        for gpu in gpus:\n",
    "            tf.config.experimental.set_memory_growth(gpu, True)\n",
    "    except RuntimeError as e:\n",
    "        print(e)"
   ]
  },
  {
   "cell_type": "code",
   "execution_count": 2,
   "metadata": {},
   "outputs": [],
   "source": [
    "import glob\n",
    "from PIL import Image\n",
    "import numpy as np\n",
    "\n",
    "all_images = []\n",
    "all_labels = []\n",
    "filenames = []\n",
    "ages = []\n",
    "img_size = (80, 100)\n",
    "for f in glob.glob('..\\\\data\\\\xray\\\\**\\\\*.jpg', recursive=True):\n",
    "    arr = f.split('\\\\')\n",
    "    arr2 = arr[3].split(\"_\")\n",
    "    if arr2[1] == 'M':\n",
    "        img = Image.open(f)\n",
    "        filenames.append(arr[-1])\n",
    "        img_resize = img.resize((img_size[0], img_size[1]))\n",
    "        all_images.append(img_resize)\n",
    "        age = int(arr2[2].replace('yr', ''))\n",
    "        ages.append(age)"
   ]
  },
  {
   "cell_type": "code",
   "execution_count": 3,
   "metadata": {},
   "outputs": [
    {
     "data": {
      "text/plain": [
       "['332_M.jpg',\n",
       " '333_M.jpg',\n",
       " '334_M.jpg',\n",
       " '335_M.jpg',\n",
       " '336_M.jpg',\n",
       " '337_M.jpg',\n",
       " '338_M.jpg',\n",
       " '339_M.jpg',\n",
       " '340_M.jpg',\n",
       " '341_M.jpg']"
      ]
     },
     "execution_count": 3,
     "metadata": {},
     "output_type": "execute_result"
    }
   ],
   "source": [
    "filenames[:10]"
   ]
  },
  {
   "cell_type": "code",
   "execution_count": 4,
   "metadata": {},
   "outputs": [
    {
     "data": {
      "text/plain": [
       "[('332_M.jpg', 10, <PIL.Image.Image image mode=RGB size=80x100>),\n",
       " ('333_M.jpg', 10, <PIL.Image.Image image mode=RGB size=80x100>),\n",
       " ('334_M.jpg', 10, <PIL.Image.Image image mode=RGB size=80x100>),\n",
       " ('335_M.jpg', 10, <PIL.Image.Image image mode=RGB size=80x100>),\n",
       " ('336_M.jpg', 10, <PIL.Image.Image image mode=RGB size=80x100>),\n",
       " ('337_M.jpg', 10, <PIL.Image.Image image mode=RGB size=80x100>),\n",
       " ('338_M.jpg', 10, <PIL.Image.Image image mode=RGB size=80x100>),\n",
       " ('339_M.jpg', 10, <PIL.Image.Image image mode=RGB size=80x100>),\n",
       " ('340_M.jpg', 10, <PIL.Image.Image image mode=RGB size=80x100>),\n",
       " ('341_M.jpg', 10, <PIL.Image.Image image mode=RGB size=80x100>)]"
      ]
     },
     "execution_count": 4,
     "metadata": {},
     "output_type": "execute_result"
    }
   ],
   "source": [
    "items=list(zip(filenames,ages,all_images))\n",
    "items[:10]"
   ]
  },
  {
   "cell_type": "code",
   "execution_count": 5,
   "metadata": {},
   "outputs": [
    {
     "data": {
      "text/plain": [
       "665"
      ]
     },
     "execution_count": 5,
     "metadata": {},
     "output_type": "execute_result"
    }
   ],
   "source": [
    "len(all_images)"
   ]
  },
  {
   "cell_type": "code",
   "execution_count": 6,
   "metadata": {},
   "outputs": [
    {
     "data": {
      "text/plain": [
       "(100, 80, 3)"
      ]
     },
     "execution_count": 6,
     "metadata": {},
     "output_type": "execute_result"
    }
   ],
   "source": [
    "np.array(all_images[0]).shape"
   ]
  },
  {
   "cell_type": "code",
   "execution_count": 7,
   "metadata": {},
   "outputs": [
    {
     "data": {
      "text/plain": [
       "(666, 80, 100, 3)"
      ]
     },
     "execution_count": 7,
     "metadata": {},
     "output_type": "execute_result"
    }
   ],
   "source": [
    "X = np.empty((1,img_size[0],img_size[1],3))\n",
    "for img in all_images:\n",
    "    X = np.vstack((X,np.array(img).reshape(1,img_size[0],img_size[1],3)))\n",
    "X.shape"
   ]
  },
  {
   "cell_type": "code",
   "execution_count": 8,
   "metadata": {},
   "outputs": [],
   "source": [
    "X = np.delete(X, (0), axis=0)"
   ]
  },
  {
   "cell_type": "code",
   "execution_count": 9,
   "metadata": {},
   "outputs": [
    {
     "data": {
      "text/plain": [
       "(665, 80, 100, 3)"
      ]
     },
     "execution_count": 9,
     "metadata": {},
     "output_type": "execute_result"
    }
   ],
   "source": [
    "X.shape"
   ]
  },
  {
   "cell_type": "code",
   "execution_count": 10,
   "metadata": {},
   "outputs": [
    {
     "data": {
      "text/plain": [
       "array([10, 10, 10, 10, 10, 10, 10, 10, 10, 10])"
      ]
     },
     "execution_count": 10,
     "metadata": {},
     "output_type": "execute_result"
    }
   ],
   "source": [
    "y = np.array(ages)\n",
    "y[:10]"
   ]
  },
  {
   "cell_type": "code",
   "execution_count": 11,
   "metadata": {},
   "outputs": [
    {
     "data": {
      "image/png": "[encoded data removed]",
      "text/plain": [
       "<Figure size 640x480 with 1 Axes>"
      ]
     },
     "metadata": {},
     "output_type": "display_data"
    }
   ],
   "source": [
    "import matplotlib.pyplot as plt\n",
    "plt.imshow(all_images[0])\n",
    "plt.show()"
   ]
  },
  {
   "cell_type": "code",
   "execution_count": 12,
   "metadata": {},
   "outputs": [
    {
     "data": {
      "text/plain": [
       "((532, 80, 100, 3), (133, 80, 100, 3), (532,), (133,))"
      ]
     },
     "execution_count": 12,
     "metadata": {},
     "output_type": "execute_result"
    }
   ],
   "source": [
    "from sklearn.model_selection import train_test_split\n",
    "X_train, X_test, y_train, y_test = train_test_split(X, y, test_size=0.2, stratify=y, shuffle=True, random_state=10)\n",
    "X_train.shape, X_test.shape, y_train.shape, y_test.shape"
   ]
  },
  {
   "cell_type": "code",
   "execution_count": 13,
   "metadata": {},
   "outputs": [
    {
     "data": {
      "text/plain": [
       "4     40\n",
       "5     40\n",
       "6     40\n",
       "7     40\n",
       "8     40\n",
       "9     40\n",
       "10    40\n",
       "11    40\n",
       "12    40\n",
       "13    40\n",
       "14    40\n",
       "15    36\n",
       "3     25\n",
       "16    24\n",
       "17     7\n",
       "dtype: int64"
      ]
     },
     "execution_count": 13,
     "metadata": {},
     "output_type": "execute_result"
    }
   ],
   "source": [
    "import pandas as pd\n",
    "pd.DataFrame(y_train).value_counts()"
   ]
  },
  {
   "cell_type": "code",
   "execution_count": 14,
   "metadata": {},
   "outputs": [],
   "source": [
    "X_train = X_train.reshape(-1, img_size[0] * img_size[1] * 3)\n",
    "X_test = X_test.reshape(-1, img_size[0] * img_size[1] * 3)"
   ]
  },
  {
   "cell_type": "code",
   "execution_count": 15,
   "metadata": {},
   "outputs": [],
   "source": [
    "X_train = X_train / 255.\n",
    "X_test = X_test / 255."
   ]
  },
  {
   "cell_type": "code",
   "execution_count": 16,
   "metadata": {},
   "outputs": [],
   "source": [
    "X_train = X_train.reshape(-1, img_size[0], img_size[1], 3)\n",
    "X_test = X_test.reshape(-1, img_size[0], img_size[1], 3)"
   ]
  },
  {
   "cell_type": "code",
   "execution_count": 17,
   "metadata": {},
   "outputs": [],
   "source": [
    "from tensorflow.keras import utils\n",
    "\n",
    "y_train_backup = y_train\n",
    "y_test_backup = y_test"
   ]
  },
  {
   "cell_type": "code",
   "execution_count": 18,
   "metadata": {},
   "outputs": [
    {
     "name": "stdout",
     "output_type": "stream",
     "text": [
      "Model: \"sequential\"\n",
      "_________________________________________________________________\n",
      " Layer (type)                Output Shape              Param #   \n",
      "=================================================================\n",
      " conv2d (Conv2D)             (None, 80, 100, 64)       1792      \n",
      "                                                                 \n",
      " max_pooling2d (MaxPooling2D  (None, 40, 50, 64)       0         \n",
      " )                                                               \n",
      "                                                                 \n",
      " conv2d_1 (Conv2D)           (None, 38, 48, 64)        36928     \n",
      "                                                                 \n",
      " max_pooling2d_1 (MaxPooling  (None, 19, 24, 64)       0         \n",
      " 2D)                                                             \n",
      "                                                                 \n",
      " conv2d_2 (Conv2D)           (None, 17, 22, 64)        36928     \n",
      "                                                                 \n",
      " flatten (Flatten)           (None, 23936)             0         \n",
      "                                                                 \n",
      " dense (Dense)               (None, 64)                1531968   \n",
      "                                                                 \n",
      " dense_1 (Dense)             (None, 1)                 65        \n",
      "                                                                 \n",
      "=================================================================\n",
      "Total params: 1,607,681\n",
      "Trainable params: 1,607,681\n",
      "Non-trainable params: 0\n",
      "_________________________________________________________________\n"
     ]
    }
   ],
   "source": [
    "from keras.models import Sequential\n",
    "from keras.layers import Conv2D, MaxPooling2D, Dense, Flatten\n",
    "\n",
    "model = Sequential()\n",
    "model.add(Conv2D(64, (3, 3), padding='same', input_shape=X_train.shape[1:], activation='relu'))\n",
    "model.add(MaxPooling2D(2, 2))\n",
    "model.add(Conv2D(64, (3, 3), activation='relu'))\n",
    "model.add(MaxPooling2D(2, 2))\n",
    "model.add(Conv2D(64, (3, 3), activation='relu'))\n",
    "model.add(Flatten())\n",
    "model.add(Dense(64, activation='relu'))\n",
    "model.add(Dense(1))\n",
    "model.compile(optimizer='rmsprop', loss='mae', metrics=['mae'])\n",
    "model.summary()"
   ]
  },
  {
   "cell_type": "code",
   "execution_count": 19,
   "metadata": {},
   "outputs": [
    {
     "data": {
      "text/plain": [
       "((532, 80, 100, 3), (532,), (133, 80, 100, 3), (133,))"
      ]
     },
     "execution_count": 19,
     "metadata": {},
     "output_type": "execute_result"
    }
   ],
   "source": [
    "X_train.shape, y_train.shape, X_test.shape, y_test.shape"
   ]
  },
  {
   "cell_type": "code",
   "execution_count": 20,
   "metadata": {},
   "outputs": [
    {
     "name": "stdout",
     "output_type": "stream",
     "text": [
      "Epoch 1/30\n",
      "14/14 [==============================] - ETA: 0s - loss: 6.6499 - mae: 6.6499\n",
      "Epoch 1: val_loss improved from inf to 3.48263, saving model to ../models\\xray_m_best.h5\n",
      "14/14 [==============================] - 7s 71ms/step - loss: 6.6499 - mae: 6.6499 - val_loss: 3.4826 - val_mae: 3.4826\n",
      "Epoch 2/30\n",
      "13/14 [==========================>...] - ETA: 0s - loss: 4.3347 - mae: 4.3347\n",
      "Epoch 2: val_loss did not improve from 3.48263\n",
      "14/14 [==============================] - 0s 32ms/step - loss: 4.2880 - mae: 4.2880 - val_loss: 3.7055 - val_mae: 3.7055\n",
      "Epoch 3/30\n",
      "13/14 [==========================>...] - ETA: 0s - loss: 4.0787 - mae: 4.0787\n",
      "Epoch 3: val_loss did not improve from 3.48263\n",
      "14/14 [==============================] - 0s 32ms/step - loss: 4.0756 - mae: 4.0756 - val_loss: 3.7106 - val_mae: 3.7106\n",
      "Epoch 4/30\n",
      "13/14 [==========================>...] - ETA: 0s - loss: 3.6778 - mae: 3.6778\n",
      "Epoch 4: val_loss improved from 3.48263 to 3.10905, saving model to ../models\\xray_m_best.h5\n",
      "14/14 [==============================] - 1s 41ms/step - loss: 3.6989 - mae: 3.6989 - val_loss: 3.1090 - val_mae: 3.1090\n",
      "Epoch 5/30\n",
      "13/14 [==========================>...] - ETA: 0s - loss: 3.6309 - mae: 3.6309\n",
      "Epoch 5: val_loss did not improve from 3.10905\n",
      "14/14 [==============================] - 0s 33ms/step - loss: 3.6243 - mae: 3.6243 - val_loss: 4.2141 - val_mae: 4.2141\n",
      "Epoch 6/30\n",
      "13/14 [==========================>...] - ETA: 0s - loss: 3.4375 - mae: 3.4375\n",
      "Epoch 6: val_loss improved from 3.10905 to 3.03833, saving model to ../models\\xray_m_best.h5\n",
      "14/14 [==============================] - 1s 40ms/step - loss: 3.4548 - mae: 3.4548 - val_loss: 3.0383 - val_mae: 3.0383\n",
      "Epoch 7/30\n",
      "13/14 [==========================>...] - ETA: 0s - loss: 3.4577 - mae: 3.4577\n",
      "Epoch 7: val_loss did not improve from 3.03833\n",
      "14/14 [==============================] - 0s 33ms/step - loss: 3.4360 - mae: 3.4360 - val_loss: 3.8181 - val_mae: 3.8181\n",
      "Epoch 8/30\n",
      "13/14 [==========================>...] - ETA: 0s - loss: 3.2197 - mae: 3.2197\n",
      "Epoch 8: val_loss improved from 3.03833 to 2.97110, saving model to ../models\\xray_m_best.h5\n",
      "14/14 [==============================] - 1s 41ms/step - loss: 3.2816 - mae: 3.2816 - val_loss: 2.9711 - val_mae: 2.9711\n",
      "Epoch 9/30\n",
      "13/14 [==========================>...] - ETA: 0s - loss: 3.2000 - mae: 3.2000\n",
      "Epoch 9: val_loss improved from 2.97110 to 2.88662, saving model to ../models\\xray_m_best.h5\n",
      "14/14 [==============================] - 1s 41ms/step - loss: 3.2115 - mae: 3.2115 - val_loss: 2.8866 - val_mae: 2.8866\n",
      "Epoch 10/30\n",
      "13/14 [==========================>...] - ETA: 0s - loss: 3.0998 - mae: 3.0998\n",
      "Epoch 10: val_loss improved from 2.88662 to 2.60021, saving model to ../models\\xray_m_best.h5\n",
      "14/14 [==============================] - 1s 40ms/step - loss: 3.1027 - mae: 3.1027 - val_loss: 2.6002 - val_mae: 2.6002\n",
      "Epoch 11/30\n",
      "13/14 [==========================>...] - ETA: 0s - loss: 3.1873 - mae: 3.1873\n",
      "Epoch 11: val_loss did not improve from 2.60021\n",
      "14/14 [==============================] - 0s 32ms/step - loss: 3.1640 - mae: 3.1640 - val_loss: 4.2630 - val_mae: 4.2630\n",
      "Epoch 12/30\n",
      "13/14 [==========================>...] - ETA: 0s - loss: 3.3787 - mae: 3.3787\n",
      "Epoch 12: val_loss did not improve from 2.60021\n",
      "14/14 [==============================] - 0s 33ms/step - loss: 3.3709 - mae: 3.3709 - val_loss: 4.1965 - val_mae: 4.1965\n",
      "Epoch 13/30\n",
      "13/14 [==========================>...] - ETA: 0s - loss: 3.0840 - mae: 3.0840\n",
      "Epoch 13: val_loss did not improve from 2.60021\n",
      "14/14 [==============================] - 0s 33ms/step - loss: 3.0987 - mae: 3.0987 - val_loss: 2.6052 - val_mae: 2.6052\n",
      "Epoch 14/30\n",
      "13/14 [==========================>...] - ETA: 0s - loss: 2.4922 - mae: 2.4922\n",
      "Epoch 14: val_loss did not improve from 2.60021\n",
      "14/14 [==============================] - 0s 33ms/step - loss: 2.5925 - mae: 2.5925 - val_loss: 2.9026 - val_mae: 2.9026\n",
      "Epoch 15/30\n",
      "13/14 [==========================>...] - ETA: 0s - loss: 2.4184 - mae: 2.4184\n",
      "Epoch 15: val_loss improved from 2.60021 to 2.24501, saving model to ../models\\xray_m_best.h5\n",
      "14/14 [==============================] - 1s 40ms/step - loss: 2.4146 - mae: 2.4146 - val_loss: 2.2450 - val_mae: 2.2450\n",
      "Epoch 16/30\n",
      "13/14 [==========================>...] - ETA: 0s - loss: 2.5758 - mae: 2.5758\n",
      "Epoch 16: val_loss did not improve from 2.24501\n",
      "14/14 [==============================] - 0s 33ms/step - loss: 2.5592 - mae: 2.5592 - val_loss: 3.4795 - val_mae: 3.4795\n",
      "Epoch 17/30\n",
      "13/14 [==========================>...] - ETA: 0s - loss: 2.5398 - mae: 2.5398\n",
      "Epoch 17: val_loss did not improve from 2.24501\n",
      "14/14 [==============================] - 0s 33ms/step - loss: 2.5320 - mae: 2.5320 - val_loss: 2.4227 - val_mae: 2.4227\n",
      "Epoch 18/30\n",
      "13/14 [==========================>...] - ETA: 0s - loss: 2.2869 - mae: 2.2869\n",
      "Epoch 18: val_loss improved from 2.24501 to 2.05775, saving model to ../models\\xray_m_best.h5\n",
      "14/14 [==============================] - 1s 40ms/step - loss: 2.3040 - mae: 2.3040 - val_loss: 2.0577 - val_mae: 2.0577\n",
      "Epoch 19/30\n",
      "13/14 [==========================>...] - ETA: 0s - loss: 2.2279 - mae: 2.2279\n",
      "Epoch 19: val_loss did not improve from 2.05775\n",
      "14/14 [==============================] - 0s 33ms/step - loss: 2.2458 - mae: 2.2458 - val_loss: 3.2559 - val_mae: 3.2559\n",
      "Epoch 20/30\n",
      "13/14 [==========================>...] - ETA: 0s - loss: 2.2913 - mae: 2.2913\n",
      "Epoch 20: val_loss improved from 2.05775 to 1.80418, saving model to ../models\\xray_m_best.h5\n",
      "14/14 [==============================] - 1s 40ms/step - loss: 2.3092 - mae: 2.3092 - val_loss: 1.8042 - val_mae: 1.8042\n",
      "Epoch 21/30\n",
      "13/14 [==========================>...] - ETA: 0s - loss: 1.9834 - mae: 1.9834\n",
      "Epoch 21: val_loss did not improve from 1.80418\n",
      "14/14 [==============================] - 0s 34ms/step - loss: 1.9749 - mae: 1.9749 - val_loss: 2.4666 - val_mae: 2.4666\n",
      "Epoch 22/30\n",
      "13/14 [==========================>...] - ETA: 0s - loss: 2.1363 - mae: 2.1363\n",
      "Epoch 22: val_loss did not improve from 1.80418\n",
      "14/14 [==============================] - 0s 33ms/step - loss: 2.1176 - mae: 2.1176 - val_loss: 2.4240 - val_mae: 2.4240\n",
      "Epoch 23/30\n",
      "13/14 [==========================>...] - ETA: 0s - loss: 2.1381 - mae: 2.1381\n",
      "Epoch 23: val_loss did not improve from 1.80418\n",
      "14/14 [==============================] - 0s 33ms/step - loss: 2.1236 - mae: 2.1236 - val_loss: 1.8936 - val_mae: 1.8936\n",
      "Epoch 24/30\n",
      "13/14 [==========================>...] - ETA: 0s - loss: 1.8493 - mae: 1.8493\n",
      "Epoch 24: val_loss did not improve from 1.80418\n",
      "14/14 [==============================] - 0s 33ms/step - loss: 1.8512 - mae: 1.8512 - val_loss: 1.8534 - val_mae: 1.8534\n",
      "Epoch 25/30\n",
      "13/14 [==========================>...] - ETA: 0s - loss: 1.9881 - mae: 1.9881\n",
      "Epoch 25: val_loss did not improve from 1.80418\n",
      "14/14 [==============================] - 0s 33ms/step - loss: 1.9666 - mae: 1.9666 - val_loss: 2.4940 - val_mae: 2.4940\n",
      "Epoch 26/30\n",
      "13/14 [==========================>...] - ETA: 0s - loss: 1.8865 - mae: 1.8865\n",
      "Epoch 26: val_loss did not improve from 1.80418\n",
      "14/14 [==============================] - 0s 33ms/step - loss: 1.8631 - mae: 1.8631 - val_loss: 2.3222 - val_mae: 2.3222\n",
      "Epoch 27/30\n",
      "13/14 [==========================>...] - ETA: 0s - loss: 1.8959 - mae: 1.8959\n",
      "Epoch 27: val_loss did not improve from 1.80418\n",
      "14/14 [==============================] - 0s 33ms/step - loss: 1.9014 - mae: 1.9014 - val_loss: 2.0525 - val_mae: 2.0525\n",
      "Epoch 28/30\n",
      "13/14 [==========================>...] - ETA: 0s - loss: 1.9438 - mae: 1.9438\n",
      "Epoch 28: val_loss improved from 1.80418 to 1.66851, saving model to ../models\\xray_m_best.h5\n",
      "14/14 [==============================] - 1s 40ms/step - loss: 1.9466 - mae: 1.9466 - val_loss: 1.6685 - val_mae: 1.6685\n",
      "Epoch 29/30\n",
      "13/14 [==========================>...] - ETA: 0s - loss: 1.7148 - mae: 1.7148\n",
      "Epoch 29: val_loss did not improve from 1.66851\n",
      "14/14 [==============================] - 0s 33ms/step - loss: 1.7090 - mae: 1.7090 - val_loss: 2.2702 - val_mae: 2.2702\n",
      "Epoch 30/30\n",
      "13/14 [==========================>...] - ETA: 0s - loss: 1.8169 - mae: 1.8169\n",
      "Epoch 30: val_loss improved from 1.66851 to 1.66818, saving model to ../models\\xray_m_best.h5\n",
      "14/14 [==============================] - 1s 40ms/step - loss: 1.8076 - mae: 1.8076 - val_loss: 1.6682 - val_mae: 1.6682\n"
     ]
    }
   ],
   "source": [
    "from keras.callbacks import ModelCheckpoint\n",
    "checkpoint = ModelCheckpoint(\"../models/xray_m_best.h5\", monitor='val_loss', verbose=1, save_best_only=True, mode='min')\n",
    "hist = model.fit(X_train, y_train, batch_size=32, validation_split=0.2, epochs=30, callbacks=[checkpoint])"
   ]
  },
  {
   "cell_type": "code",
   "execution_count": 21,
   "metadata": {},
   "outputs": [
    {
     "data": {
      "image/png": "[encoded data removed]",
      "text/plain": [
       "<Figure size 1200x800 with 1 Axes>"
      ]
     },
     "metadata": {},
     "output_type": "display_data"
    }
   ],
   "source": [
    "plt.figure(figsize=(12,8))\n",
    "plt.plot(hist.history['loss'])\n",
    "plt.plot(hist.history['val_loss'])\n",
    "plt.legend(['loss','val_loss'])\n",
    "plt.grid()\n",
    "plt.show()"
   ]
  },
  {
   "cell_type": "code",
   "execution_count": 22,
   "metadata": {},
   "outputs": [
    {
     "name": "stdout",
     "output_type": "stream",
     "text": [
      "17/17 [==============================] - 0s 18ms/step - loss: 1.4805 - mae: 1.4805\n",
      "[1.4804623126983643, 1.4804623126983643]\n"
     ]
    }
   ],
   "source": [
    "from tensorflow.keras.models import load_model\n",
    "model = load_model(\"../models/xray_m_best.h5\")\n",
    "scores = model.evaluate(X_train, y_train, verbose=1)\n",
    "print(scores)"
   ]
  },
  {
   "cell_type": "code",
   "execution_count": 25,
   "metadata": {},
   "outputs": [
    {
     "name": "stdout",
     "output_type": "stream",
     "text": [
      "5/5 [==============================] - 0s 52ms/step - loss: 1.7901 - mae: 1.7901\n",
      "[1.79009211063385, 1.79009211063385]\n"
     ]
    }
   ],
   "source": [
    "model = load_model(\"../models/xray_m_best.h5\")\n",
    "scores = model.evaluate(X_test, y_test, verbose=1)\n",
    "print(scores)"
   ]
  },
  {
   "cell_type": "code",
   "execution_count": 26,
   "metadata": {},
   "outputs": [
    {
     "name": "stdout",
     "output_type": "stream",
     "text": [
      "5/5 [==============================] - 0s 9ms/step\n"
     ]
    },
    {
     "data": {
      "text/plain": [
       "array([[ 8.482928 ],\n",
       "       [ 6.9421206],\n",
       "       [10.691455 ],\n",
       "       [11.069188 ],\n",
       "       [ 3.070225 ]], dtype=float32)"
      ]
     },
     "execution_count": 26,
     "metadata": {},
     "output_type": "execute_result"
    }
   ],
   "source": [
    "pred=model.predict(X_test)\n",
    "pred[:5]"
   ]
  },
  {
   "cell_type": "code",
   "execution_count": 27,
   "metadata": {},
   "outputs": [
    {
     "data": {
      "text/plain": [
       "array([10,  9, 13, 11,  5])"
      ]
     },
     "execution_count": 27,
     "metadata": {},
     "output_type": "execute_result"
    }
   ],
   "source": [
    "y_test[:5]"
   ]
  }
 ],
 "metadata": {
  "kernelspec": {
   "display_name": "base",
   "language": "python",
   "name": "python3"
  },
  "language_info": {
   "codemirror_mode": {
    "name": "ipython",
    "version": 3
   },
   "file_extension": ".py",
   "mimetype": "text/x-python",
   "name": "python",
   "nbconvert_exporter": "python",
   "pygments_lexer": "ipython3",
   "version": "3.9.16"
  },
  "orig_nbformat": 4
 },
 "nbformat": 4,
 "nbformat_minor": 2
}
