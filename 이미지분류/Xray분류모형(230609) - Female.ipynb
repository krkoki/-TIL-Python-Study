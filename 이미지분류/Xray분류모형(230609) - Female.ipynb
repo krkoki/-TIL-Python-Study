{
 "cells": [
  {
   "cell_type": "code",
   "execution_count": 1,
   "metadata": {},
   "outputs": [
    {
     "name": "stdout",
     "output_type": "stream",
     "text": [
      "[PhysicalDevice(name='/physical_device:GPU:0', device_type='GPU')]\n"
     ]
    }
   ],
   "source": [
    "import tensorflow as tf\n",
    "gpus = tf.config.experimental.list_physical_devices(\"GPU\")\n",
    "print(gpus)\n",
    "if gpus:\n",
    "    try:\n",
    "        for gpu in gpus:\n",
    "            tf.config.experimental.set_memory_growth(gpu, True)\n",
    "    except RuntimeError as e:\n",
    "        print(e)"
   ]
  },
  {
   "cell_type": "code",
   "execution_count": 2,
   "metadata": {},
   "outputs": [],
   "source": [
    "import glob\n",
    "from PIL import Image\n",
    "import numpy as np\n",
    "import glob\n",
    "all_images=[]\n",
    "all_labels=[]\n",
    "filenames=[]\n",
    "ages=[]\n",
    "img_size=(80,100)\n",
    "for f in glob.glob('..\\\\data\\\\xray\\\\**\\\\*.jpg', recursive=True):\n",
    "    arr=f.split('\\\\')\n",
    "    arr2=arr[3].split(\"_\")\n",
    "    if arr2[1]=='F':\n",
    "        img = Image.open(f)\n",
    "        filenames.append(arr[-1])\n",
    "        img_resize = img.resize((img_size[0], img_size[1]))\n",
    "        all_images.append(img_resize)\n",
    "        age=int(arr2[2].replace('yr',''))\n",
    "        ages.append(age)"
   ]
  },
  {
   "cell_type": "code",
   "execution_count": 3,
   "metadata": {},
   "outputs": [
    {
     "data": {
      "text/plain": [
       "['310_F.jpg',\n",
       " '311_F.jpg',\n",
       " '312_F.jpg',\n",
       " '313_F.jpg',\n",
       " '314_F.jpg',\n",
       " '315_F.jpg',\n",
       " '316_F.jpg',\n",
       " '317_F.jpg',\n",
       " '318_F.jpg',\n",
       " '319_F.jpg']"
      ]
     },
     "execution_count": 3,
     "metadata": {},
     "output_type": "execute_result"
    }
   ],
   "source": [
    "filenames[:10]"
   ]
  },
  {
   "cell_type": "code",
   "execution_count": 4,
   "metadata": {},
   "outputs": [
    {
     "data": {
      "text/plain": [
       "[('310_F.jpg', 10, <PIL.Image.Image image mode=RGB size=80x100>),\n",
       " ('311_F.jpg', 10, <PIL.Image.Image image mode=RGB size=80x100>),\n",
       " ('312_F.jpg', 10, <PIL.Image.Image image mode=RGB size=80x100>),\n",
       " ('313_F.jpg', 10, <PIL.Image.Image image mode=RGB size=80x100>),\n",
       " ('314_F.jpg', 10, <PIL.Image.Image image mode=RGB size=80x100>),\n",
       " ('315_F.jpg', 10, <PIL.Image.Image image mode=RGB size=80x100>),\n",
       " ('316_F.jpg', 10, <PIL.Image.Image image mode=RGB size=80x100>),\n",
       " ('317_F.jpg', 10, <PIL.Image.Image image mode=RGB size=80x100>),\n",
       " ('318_F.jpg', 10, <PIL.Image.Image image mode=RGB size=80x100>),\n",
       " ('319_F.jpg', 10, <PIL.Image.Image image mode=RGB size=80x100>)]"
      ]
     },
     "execution_count": 4,
     "metadata": {},
     "output_type": "execute_result"
    }
   ],
   "source": [
    "items=list(zip(filenames,ages,all_images))\n",
    "items[:10]"
   ]
  },
  {
   "cell_type": "code",
   "execution_count": 5,
   "metadata": {},
   "outputs": [
    {
     "data": {
      "text/plain": [
       "572"
      ]
     },
     "execution_count": 5,
     "metadata": {},
     "output_type": "execute_result"
    }
   ],
   "source": [
    "len(all_images)"
   ]
  },
  {
   "cell_type": "code",
   "execution_count": 6,
   "metadata": {},
   "outputs": [
    {
     "data": {
      "text/plain": [
       "(100, 80, 3)"
      ]
     },
     "execution_count": 6,
     "metadata": {},
     "output_type": "execute_result"
    }
   ],
   "source": [
    "np.array(all_images[0]).shape"
   ]
  },
  {
   "cell_type": "code",
   "execution_count": 7,
   "metadata": {},
   "outputs": [
    {
     "data": {
      "text/plain": [
       "(573, 80, 100, 3)"
      ]
     },
     "execution_count": 7,
     "metadata": {},
     "output_type": "execute_result"
    }
   ],
   "source": [
    "X=np.empty((1,img_size[0],img_size[1],3))\n",
    "for img in all_images:\n",
    "    X=np.vstack((X,np.array(img).reshape(1,img_size[0],img_size[1],3)))\n",
    "X.shape"
   ]
  },
  {
   "cell_type": "code",
   "execution_count": 8,
   "metadata": {},
   "outputs": [],
   "source": [
    "X = np.delete(X, (0), axis=0)"
   ]
  },
  {
   "cell_type": "code",
   "execution_count": 9,
   "metadata": {},
   "outputs": [
    {
     "data": {
      "text/plain": [
       "(572, 80, 100, 3)"
      ]
     },
     "execution_count": 9,
     "metadata": {},
     "output_type": "execute_result"
    }
   ],
   "source": [
    "X.shape"
   ]
  },
  {
   "cell_type": "code",
   "execution_count": 10,
   "metadata": {},
   "outputs": [
    {
     "data": {
      "text/plain": [
       "array([10, 10, 10, 10, 10, 10, 10, 10, 10, 10])"
      ]
     },
     "execution_count": 10,
     "metadata": {},
     "output_type": "execute_result"
    }
   ],
   "source": [
    "y = np.array(ages)\n",
    "y[:10]"
   ]
  },
  {
   "cell_type": "code",
   "execution_count": 11,
   "metadata": {},
   "outputs": [
    {
     "data": {
      "image/png": "[encoded data removed]",
      "text/plain": [
       "<Figure size 640x480 with 1 Axes>"
      ]
     },
     "metadata": {},
     "output_type": "display_data"
    }
   ],
   "source": [
    "import matplotlib.pyplot as plt\n",
    "plt.imshow(all_images[0])\n",
    "plt.show()"
   ]
  },
  {
   "cell_type": "code",
   "execution_count": 12,
   "metadata": {},
   "outputs": [
    {
     "data": {
      "text/plain": [
       "((457, 80, 100, 3), (115, 80, 100, 3), (457,), (115,))"
      ]
     },
     "execution_count": 12,
     "metadata": {},
     "output_type": "execute_result"
    }
   ],
   "source": [
    "from sklearn.model_selection import train_test_split\n",
    "\n",
    "X_train, X_test, y_train, y_test = train_test_split(X, y, test_size=0.2, stratify=y, shuffle=True, random_state=10)\n",
    "X_train.shape, X_test.shape, y_train.shape, y_test.shape"
   ]
  },
  {
   "cell_type": "code",
   "execution_count": 13,
   "metadata": {},
   "outputs": [
    {
     "data": {
      "text/plain": [
       "5     49\n",
       "6     40\n",
       "8     40\n",
       "9     40\n",
       "10    40\n",
       "11    40\n",
       "12    40\n",
       "7     37\n",
       "13    36\n",
       "14    29\n",
       "4     26\n",
       "3     15\n",
       "15    15\n",
       "16    10\n",
       "dtype: int64"
      ]
     },
     "execution_count": 13,
     "metadata": {},
     "output_type": "execute_result"
    }
   ],
   "source": [
    "import pandas as pd\n",
    "pd.DataFrame(y_train).value_counts()"
   ]
  },
  {
   "cell_type": "code",
   "execution_count": 14,
   "metadata": {},
   "outputs": [],
   "source": [
    "X_train = X_train.reshape(-1,img_size[0] * img_size[1] * 3)\n",
    "X_test = X_test.reshape(-1,img_size[0] * img_size[1] * 3)"
   ]
  },
  {
   "cell_type": "code",
   "execution_count": 15,
   "metadata": {},
   "outputs": [],
   "source": [
    "X_train = X_train / 255.\n",
    "X_test = X_test / 255."
   ]
  },
  {
   "cell_type": "code",
   "execution_count": 16,
   "metadata": {},
   "outputs": [],
   "source": [
    "X_train = X_train.reshape(-1,img_size[0], img_size[1], 3)\n",
    "X_test = X_test.reshape(-1,img_size[0], img_size[1], 3)"
   ]
  },
  {
   "cell_type": "code",
   "execution_count": 17,
   "metadata": {},
   "outputs": [],
   "source": [
    "from tensorflow.keras import utils\n",
    "\n",
    "y_train_backup = y_train\n",
    "y_test_backup = y_test"
   ]
  },
  {
   "cell_type": "code",
   "execution_count": 18,
   "metadata": {},
   "outputs": [
    {
     "name": "stdout",
     "output_type": "stream",
     "text": [
      "Model: \"sequential\"\n",
      "_________________________________________________________________\n",
      " Layer (type)                Output Shape              Param #   \n",
      "=================================================================\n",
      " conv2d (Conv2D)             (None, 80, 100, 64)       1792      \n",
      "                                                                 \n",
      " max_pooling2d (MaxPooling2D  (None, 40, 50, 64)       0         \n",
      " )                                                               \n",
      "                                                                 \n",
      " conv2d_1 (Conv2D)           (None, 38, 48, 64)        36928     \n",
      "                                                                 \n",
      " max_pooling2d_1 (MaxPooling  (None, 19, 24, 64)       0         \n",
      " 2D)                                                             \n",
      "                                                                 \n",
      " conv2d_2 (Conv2D)           (None, 17, 22, 64)        36928     \n",
      "                                                                 \n",
      " flatten (Flatten)           (None, 23936)             0         \n",
      "                                                                 \n",
      " dense (Dense)               (None, 64)                1531968   \n",
      "                                                                 \n",
      " dense_1 (Dense)             (None, 1)                 65        \n",
      "                                                                 \n",
      "=================================================================\n",
      "Total params: 1,607,681\n",
      "Trainable params: 1,607,681\n",
      "Non-trainable params: 0\n",
      "_________________________________________________________________\n"
     ]
    }
   ],
   "source": [
    "from keras.models import Sequential\n",
    "from keras.layers import Conv2D, MaxPooling2D, Dense,Flatten\n",
    "\n",
    "model=Sequential()\n",
    "model.add(Conv2D(64,(3,3),padding=\"same\", input_shape=X_train.shape[1:], activation='relu'))\n",
    "model.add(MaxPooling2D(2,2))\n",
    "model.add(Conv2D(64,(3,3),activation=\"relu\"))\n",
    "model.add(MaxPooling2D(2,2))\n",
    "model.add(Conv2D(64,(3,3),activation=\"relu\"))\n",
    "model.add(Flatten())\n",
    "model.add(Dense(64,activation=\"relu\"))\n",
    "model.add(Dense(1))\n",
    "model.compile(optimizer=\"rmsprop\", loss=\"mae\", metrics=[\"mae\"])\n",
    "model.summary()"
   ]
  },
  {
   "cell_type": "code",
   "execution_count": 19,
   "metadata": {},
   "outputs": [
    {
     "data": {
      "text/plain": [
       "((457, 80, 100, 3), (457,), (115, 80, 100, 3), (115,))"
      ]
     },
     "execution_count": 19,
     "metadata": {},
     "output_type": "execute_result"
    }
   ],
   "source": [
    "X_train.shape, y_train.shape, X_test.shape, y_test.shape"
   ]
  },
  {
   "cell_type": "code",
   "execution_count": 20,
   "metadata": {},
   "outputs": [
    {
     "name": "stdout",
     "output_type": "stream",
     "text": [
      "Epoch 1/30\n",
      "12/12 [==============================] - ETA: 0s - loss: 6.4748 - mae: 6.4748\n",
      "Epoch 1: val_loss improved from inf to 4.28992, saving model to ../models\\xray_f_best.h5\n",
      "12/12 [==============================] - 7s 422ms/step - loss: 6.4748 - mae: 6.4748 - val_loss: 4.2899 - val_mae: 4.2899\n",
      "Epoch 2/30\n",
      "11/12 [==========================>...] - ETA: 0s - loss: 3.7074 - mae: 3.7074\n",
      "Epoch 2: val_loss improved from 4.28992 to 3.57252, saving model to ../models\\xray_f_best.h5\n",
      "12/12 [==============================] - 1s 45ms/step - loss: 3.6861 - mae: 3.6861 - val_loss: 3.5725 - val_mae: 3.5725\n",
      "Epoch 3/30\n",
      "11/12 [==========================>...] - ETA: 0s - loss: 3.2913 - mae: 3.2913\n",
      "Epoch 3: val_loss improved from 3.57252 to 3.30119, saving model to ../models\\xray_f_best.h5\n",
      "12/12 [==============================] - 1s 70ms/step - loss: 3.3632 - mae: 3.3632 - val_loss: 3.3012 - val_mae: 3.3012\n",
      "Epoch 4/30\n",
      "11/12 [==========================>...] - ETA: 0s - loss: 3.0631 - mae: 3.0631\n",
      "Epoch 4: val_loss improved from 3.30119 to 3.21668, saving model to ../models\\xray_f_best.h5\n",
      "12/12 [==============================] - 0s 37ms/step - loss: 3.1332 - mae: 3.1332 - val_loss: 3.2167 - val_mae: 3.2167\n",
      "Epoch 5/30\n",
      "11/12 [==========================>...] - ETA: 0s - loss: 2.9780 - mae: 2.9780\n",
      "Epoch 5: val_loss did not improve from 3.21668\n",
      "12/12 [==============================] - 0s 32ms/step - loss: 3.0778 - mae: 3.0778 - val_loss: 4.4423 - val_mae: 4.4423\n",
      "Epoch 6/30\n",
      "11/12 [==========================>...] - ETA: 0s - loss: 3.4538 - mae: 3.4538\n",
      "Epoch 6: val_loss did not improve from 3.21668\n",
      "12/12 [==============================] - 0s 31ms/step - loss: 3.4419 - mae: 3.4419 - val_loss: 3.6815 - val_mae: 3.6815\n",
      "Epoch 7/30\n",
      "11/12 [==========================>...] - ETA: 0s - loss: 3.0686 - mae: 3.0686\n",
      "Epoch 7: val_loss improved from 3.21668 to 2.94836, saving model to ../models\\xray_f_best.h5\n",
      "12/12 [==============================] - 0s 41ms/step - loss: 3.1010 - mae: 3.1010 - val_loss: 2.9484 - val_mae: 2.9484\n",
      "Epoch 8/30\n",
      "11/12 [==========================>...] - ETA: 0s - loss: 3.2092 - mae: 3.2092\n",
      "Epoch 8: val_loss improved from 2.94836 to 2.91649, saving model to ../models\\xray_f_best.h5\n",
      "12/12 [==============================] - 0s 42ms/step - loss: 3.2600 - mae: 3.2600 - val_loss: 2.9165 - val_mae: 2.9165\n",
      "Epoch 9/30\n",
      "11/12 [==========================>...] - ETA: 0s - loss: 2.8174 - mae: 2.8174\n",
      "Epoch 9: val_loss did not improve from 2.91649\n",
      "12/12 [==============================] - 0s 31ms/step - loss: 2.8501 - mae: 2.8501 - val_loss: 3.0715 - val_mae: 3.0715\n",
      "Epoch 10/30\n",
      "11/12 [==========================>...] - ETA: 0s - loss: 2.9809 - mae: 2.9809\n",
      "Epoch 10: val_loss improved from 2.91649 to 2.75119, saving model to ../models\\xray_f_best.h5\n",
      "12/12 [==============================] - 1s 48ms/step - loss: 2.9558 - mae: 2.9558 - val_loss: 2.7512 - val_mae: 2.7512\n",
      "Epoch 11/30\n",
      "11/12 [==========================>...] - ETA: 0s - loss: 2.8686 - mae: 2.8686\n",
      "Epoch 11: val_loss improved from 2.75119 to 2.73939, saving model to ../models\\xray_f_best.h5\n",
      "12/12 [==============================] - 0s 40ms/step - loss: 2.9021 - mae: 2.9021 - val_loss: 2.7394 - val_mae: 2.7394\n",
      "Epoch 12/30\n",
      "11/12 [==========================>...] - ETA: 0s - loss: 2.9189 - mae: 2.9189\n",
      "Epoch 12: val_loss did not improve from 2.73939\n",
      "12/12 [==============================] - 0s 32ms/step - loss: 2.9669 - mae: 2.9669 - val_loss: 3.0643 - val_mae: 3.0643\n",
      "Epoch 13/30\n",
      "11/12 [==========================>...] - ETA: 0s - loss: 3.0592 - mae: 3.0592\n",
      "Epoch 13: val_loss did not improve from 2.73939\n",
      "12/12 [==============================] - 0s 32ms/step - loss: 3.0640 - mae: 3.0640 - val_loss: 3.4230 - val_mae: 3.4230\n",
      "Epoch 14/30\n",
      "11/12 [==========================>...] - ETA: 0s - loss: 2.9411 - mae: 2.9411\n",
      "Epoch 14: val_loss did not improve from 2.73939\n",
      "12/12 [==============================] - 0s 31ms/step - loss: 2.9262 - mae: 2.9262 - val_loss: 3.0005 - val_mae: 3.0005\n",
      "Epoch 15/30\n",
      "11/12 [==========================>...] - ETA: 0s - loss: 2.9724 - mae: 2.9724\n",
      "Epoch 15: val_loss did not improve from 2.73939\n",
      "12/12 [==============================] - 0s 32ms/step - loss: 3.0384 - mae: 3.0384 - val_loss: 3.3567 - val_mae: 3.3567\n",
      "Epoch 16/30\n",
      "11/12 [==========================>...] - ETA: 0s - loss: 2.8852 - mae: 2.8852\n",
      "Epoch 16: val_loss did not improve from 2.73939\n",
      "12/12 [==============================] - 0s 32ms/step - loss: 2.8664 - mae: 2.8664 - val_loss: 2.7626 - val_mae: 2.7626\n",
      "Epoch 17/30\n",
      "11/12 [==========================>...] - ETA: 0s - loss: 2.7996 - mae: 2.7996\n",
      "Epoch 17: val_loss did not improve from 2.73939\n",
      "12/12 [==============================] - 0s 32ms/step - loss: 2.7654 - mae: 2.7654 - val_loss: 2.9494 - val_mae: 2.9494\n",
      "Epoch 18/30\n",
      "11/12 [==========================>...] - ETA: 0s - loss: 2.9116 - mae: 2.9116\n",
      "Epoch 18: val_loss did not improve from 2.73939\n",
      "12/12 [==============================] - 0s 32ms/step - loss: 2.9210 - mae: 2.9210 - val_loss: 4.2001 - val_mae: 4.2001\n",
      "Epoch 19/30\n",
      "11/12 [==========================>...] - ETA: 0s - loss: 2.9608 - mae: 2.9608\n",
      "Epoch 19: val_loss did not improve from 2.73939\n",
      "12/12 [==============================] - 0s 32ms/step - loss: 2.9491 - mae: 2.9491 - val_loss: 3.2948 - val_mae: 3.2948\n",
      "Epoch 20/30\n",
      "11/12 [==========================>...] - ETA: 0s - loss: 2.8395 - mae: 2.8395\n",
      "Epoch 20: val_loss did not improve from 2.73939\n",
      "12/12 [==============================] - 0s 33ms/step - loss: 2.8306 - mae: 2.8306 - val_loss: 2.8777 - val_mae: 2.8777\n",
      "Epoch 21/30\n",
      "11/12 [==========================>...] - ETA: 0s - loss: 2.7917 - mae: 2.7917\n",
      "Epoch 21: val_loss did not improve from 2.73939\n",
      "12/12 [==============================] - 0s 32ms/step - loss: 2.7903 - mae: 2.7903 - val_loss: 4.0413 - val_mae: 4.0413\n",
      "Epoch 22/30\n",
      "11/12 [==========================>...] - ETA: 0s - loss: 2.7055 - mae: 2.7055\n",
      "Epoch 22: val_loss improved from 2.73939 to 2.57508, saving model to ../models\\xray_f_best.h5\n",
      "12/12 [==============================] - 0s 42ms/step - loss: 2.6602 - mae: 2.6602 - val_loss: 2.5751 - val_mae: 2.5751\n",
      "Epoch 23/30\n",
      "11/12 [==========================>...] - ETA: 0s - loss: 2.7384 - mae: 2.7384\n",
      "Epoch 23: val_loss improved from 2.57508 to 2.48726, saving model to ../models\\xray_f_best.h5\n",
      "12/12 [==============================] - 0s 42ms/step - loss: 2.7177 - mae: 2.7177 - val_loss: 2.4873 - val_mae: 2.4873\n",
      "Epoch 24/30\n",
      "11/12 [==========================>...] - ETA: 0s - loss: 2.5879 - mae: 2.5879\n",
      "Epoch 24: val_loss did not improve from 2.48726\n",
      "12/12 [==============================] - 0s 32ms/step - loss: 2.5679 - mae: 2.5679 - val_loss: 2.5599 - val_mae: 2.5599\n",
      "Epoch 25/30\n",
      "11/12 [==========================>...] - ETA: 0s - loss: 2.9013 - mae: 2.9013\n",
      "Epoch 25: val_loss improved from 2.48726 to 2.42702, saving model to ../models\\xray_f_best.h5\n",
      "12/12 [==============================] - 0s 40ms/step - loss: 2.9107 - mae: 2.9107 - val_loss: 2.4270 - val_mae: 2.4270\n",
      "Epoch 26/30\n",
      "11/12 [==========================>...] - ETA: 0s - loss: 2.3661 - mae: 2.3661\n",
      "Epoch 26: val_loss did not improve from 2.42702\n",
      "12/12 [==============================] - 0s 32ms/step - loss: 2.3700 - mae: 2.3700 - val_loss: 2.9297 - val_mae: 2.9297\n",
      "Epoch 27/30\n",
      "11/12 [==========================>...] - ETA: 0s - loss: 2.7507 - mae: 2.7507\n",
      "Epoch 27: val_loss did not improve from 2.42702\n",
      "12/12 [==============================] - 0s 32ms/step - loss: 2.7513 - mae: 2.7513 - val_loss: 2.7787 - val_mae: 2.7787\n",
      "Epoch 28/30\n",
      "11/12 [==========================>...] - ETA: 0s - loss: 2.1677 - mae: 2.1677\n",
      "Epoch 28: val_loss improved from 2.42702 to 2.04944, saving model to ../models\\xray_f_best.h5\n",
      "12/12 [==============================] - 0s 42ms/step - loss: 2.1572 - mae: 2.1572 - val_loss: 2.0494 - val_mae: 2.0494\n",
      "Epoch 29/30\n",
      "11/12 [==========================>...] - ETA: 0s - loss: 2.5659 - mae: 2.5659\n",
      "Epoch 29: val_loss did not improve from 2.04944\n",
      "12/12 [==============================] - 0s 31ms/step - loss: 2.5383 - mae: 2.5383 - val_loss: 2.3017 - val_mae: 2.3017\n",
      "Epoch 30/30\n",
      "11/12 [==========================>...] - ETA: 0s - loss: 2.2317 - mae: 2.2317\n",
      "Epoch 30: val_loss did not improve from 2.04944\n",
      "12/12 [==============================] - 0s 32ms/step - loss: 2.2209 - mae: 2.2209 - val_loss: 2.8291 - val_mae: 2.8291\n"
     ]
    }
   ],
   "source": [
    "from keras.callbacks import ModelCheckpoint\n",
    "checkpoint = ModelCheckpoint(\"../models/xray_f_best.h5\", monitor='val_loss', verbose=1, save_best_only=True, mode='min')\n",
    "hist = model.fit(X_train, y_train, batch_size=32, validation_split=0.2, epochs=30, callbacks=[checkpoint])"
   ]
  },
  {
   "cell_type": "code",
   "execution_count": 21,
   "metadata": {},
   "outputs": [
    {
     "data": {
      "image/png": "[encoded data removed]",
      "text/plain": [
       "<Figure size 1200x800 with 1 Axes>"
      ]
     },
     "metadata": {},
     "output_type": "display_data"
    }
   ],
   "source": [
    "plt.figure(figsize=(12,8))\n",
    "plt.plot(hist.history['loss'])\n",
    "plt.plot(hist.history['val_loss'])\n",
    "plt.legend(['loss','val_loss'])\n",
    "plt.grid()\n",
    "plt.show()"
   ]
  },
  {
   "cell_type": "code",
   "execution_count": 22,
   "metadata": {},
   "outputs": [
    {
     "name": "stdout",
     "output_type": "stream",
     "text": [
      "15/15 [==============================] - 0s 14ms/step - loss: 1.7624 - mae: 1.7624\n",
      "[1.7623627185821533, 1.7623627185821533]\n"
     ]
    }
   ],
   "source": [
    "from tensorflow.keras.models import load_model\n",
    "model = load_model('../models/xray_f_best.h5')\n",
    "scores = model.evaluate(X_train, y_train, verbose=1)\n",
    "print(scores)"
   ]
  },
  {
   "cell_type": "code",
   "execution_count": 23,
   "metadata": {},
   "outputs": [
    {
     "name": "stdout",
     "output_type": "stream",
     "text": [
      "4/4 [==============================] - 0s 35ms/step - loss: 2.0048 - mae: 2.0048\n",
      "[2.004849433898926, 2.004849433898926]\n"
     ]
    }
   ],
   "source": [
    "model = load_model('../models/xray_f_best.h5')\n",
    "scores = model.evaluate(X_test, y_test, verbose=1)\n",
    "print(scores)"
   ]
  },
  {
   "cell_type": "code",
   "execution_count": 24,
   "metadata": {},
   "outputs": [
    {
     "name": "stdout",
     "output_type": "stream",
     "text": [
      "4/4 [==============================] - 0s 7ms/step\n"
     ]
    },
    {
     "data": {
      "text/plain": [
       "array([[ 5.6138234],\n",
       "       [ 4.593433 ],\n",
       "       [11.87209  ],\n",
       "       [10.297799 ],\n",
       "       [10.308984 ]], dtype=float32)"
      ]
     },
     "execution_count": 24,
     "metadata": {},
     "output_type": "execute_result"
    }
   ],
   "source": [
    "pred = model.predict(X_test)\n",
    "pred[:5]"
   ]
  },
  {
   "cell_type": "code",
   "execution_count": 25,
   "metadata": {},
   "outputs": [
    {
     "data": {
      "text/plain": [
       "array([ 5,  4, 15, 13, 10])"
      ]
     },
     "execution_count": 25,
     "metadata": {},
     "output_type": "execute_result"
    }
   ],
   "source": [
    "y_test[:5]"
   ]
  }
 ],
 "metadata": {
  "kernelspec": {
   "display_name": "base",
   "language": "python",
   "name": "python3"
  },
  "language_info": {
   "codemirror_mode": {
    "name": "ipython",
    "version": 3
   },
   "file_extension": ".py",
   "mimetype": "text/x-python",
   "name": "python",
   "nbconvert_exporter": "python",
   "pygments_lexer": "ipython3",
   "version": "3.9.16"
  },
  "orig_nbformat": 4
 },
 "nbformat": 4,
 "nbformat_minor": 2
}
