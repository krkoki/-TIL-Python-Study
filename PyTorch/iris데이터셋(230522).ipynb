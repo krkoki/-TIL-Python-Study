{
 "cells": [
  {
   "cell_type": "code",
   "execution_count": 1,
   "metadata": {},
   "outputs": [
    {
     "name": "stdout",
     "output_type": "stream",
     "text": [
      "[[5.1 3.5 1.4 0.2]\n",
      " [4.9 3.  1.4 0.2]\n",
      " [4.7 3.2 1.3 0.2]\n",
      " [4.6 3.1 1.5 0.2]\n",
      " [5.  3.6 1.4 0.2]]\n",
      "[0 0 0 0 0]\n"
     ]
    }
   ],
   "source": [
    "from sklearn.datasets import load_iris\n",
    "# iris 데이터셋 로딩\n",
    "X, y = load_iris(return_X_y=True)\n",
    "print(X[:5])\n",
    "print(y[:5])"
   ]
  },
  {
   "cell_type": "code",
   "execution_count": 2,
   "metadata": {},
   "outputs": [
    {
     "name": "stdout",
     "output_type": "stream",
     "text": [
      "120\n"
     ]
    }
   ],
   "source": [
    "from sklearn.model_selection import train_test_split\n",
    "X_train,X_test, y_train, y_test = train_test_split(X, y, random_state=10, \n",
    "                                                   test_size=0.2, stratify=y, shuffle=True)\n",
    "print(len(X_train))"
   ]
  },
  {
   "cell_type": "code",
   "execution_count": 3,
   "metadata": {},
   "outputs": [],
   "source": [
    "from torch import nn\n",
    "import torch.nn.functional as F\n",
    "\n",
    "# 신경망 모형\n",
    "class Model(nn.Module):\n",
    "    def __init__(self, input_dim):\n",
    "        super(Model, self).__init__()\n",
    "        # input layer, Linear 선형함수 (1차함수)\n",
    "        self.layer1 = nn.Linear(input_dim, 50) # input nodes, output nodes 50\n",
    "        self.layer2 = nn.Linear(50, 20)\n",
    "        self.layer3 = nn.Linear(20, 3)\n",
    "    \n",
    "    def forward(self, x):\n",
    "        x = F.relu(self.layer1(x))\n",
    "        x = F.relu(self.layer2(x))\n",
    "        # 출력층의 활성화함수 - 소프트맥스\n",
    "        x = F.softmax(self.layer3(x), dim=0)\n",
    "        return x\n"
   ]
  },
  {
   "cell_type": "code",
   "execution_count": 4,
   "metadata": {},
   "outputs": [],
   "source": [
    "import torch\n",
    "model = Model(X_train.shape[1]) # 초기화함수의 input_dim으로 변수개수가 전달됨\n",
    "optimizer = torch.optim.Adam(model.parameters(), lr=0.01) # 최적화함수 정의\n",
    "loss_fn = nn.CrossEntropyLoss() # 손실함수 정의\n",
    "epochs = 100"
   ]
  },
  {
   "cell_type": "code",
   "execution_count": 5,
   "metadata": {},
   "outputs": [
    {
     "name": "stdout",
     "output_type": "stream",
     "text": [
      "Epoch 1\n",
      "loss 1.0986686944961548\n",
      "Epoch 2\n",
      "loss 1.0982105731964111\n",
      "Epoch 3\n",
      "loss 1.0977652072906494\n",
      "Epoch 4\n",
      "loss 1.0972919464111328\n",
      "Epoch 5\n",
      "loss 1.0967262983322144\n",
      "Epoch 6\n",
      "loss 1.096030831336975\n",
      "Epoch 7\n",
      "loss 1.0952345132827759\n",
      "Epoch 8\n",
      "loss 1.094394326210022\n",
      "Epoch 9\n",
      "loss 1.0935178995132446\n",
      "Epoch 10\n",
      "loss 1.0926536321640015\n",
      "Epoch 11\n",
      "loss 1.0918830633163452\n",
      "Epoch 12\n",
      "loss 1.0912153720855713\n",
      "Epoch 13\n",
      "loss 1.0906444787979126\n",
      "Epoch 14\n",
      "loss 1.090155839920044\n",
      "Epoch 15\n",
      "loss 1.089707612991333\n",
      "Epoch 16\n",
      "loss 1.0892835855484009\n",
      "Epoch 17\n",
      "loss 1.088886022567749\n",
      "Epoch 18\n",
      "loss 1.0885149240493774\n",
      "Epoch 19\n",
      "loss 1.0881860256195068\n",
      "Epoch 20\n",
      "loss 1.0879161357879639\n",
      "Epoch 21\n",
      "loss 1.0877076387405396\n",
      "Epoch 22\n",
      "loss 1.0875282287597656\n",
      "Epoch 23\n",
      "loss 1.0873353481292725\n",
      "Epoch 24\n",
      "loss 1.087114691734314\n",
      "Epoch 25\n",
      "loss 1.086889386177063\n",
      "Epoch 26\n",
      "loss 1.08668851852417\n",
      "Epoch 27\n",
      "loss 1.08652925491333\n",
      "Epoch 28\n",
      "loss 1.086389422416687\n",
      "Epoch 29\n",
      "loss 1.0862362384796143\n",
      "Epoch 30\n",
      "loss 1.0860552787780762\n",
      "Epoch 31\n",
      "loss 1.0858724117279053\n",
      "Epoch 32\n",
      "loss 1.0857030153274536\n",
      "Epoch 33\n",
      "loss 1.0855448246002197\n",
      "Epoch 34\n",
      "loss 1.085389494895935\n",
      "Epoch 35\n",
      "loss 1.0852046012878418\n",
      "Epoch 36\n",
      "loss 1.084960699081421\n",
      "Epoch 37\n",
      "loss 1.0846598148345947\n",
      "Epoch 38\n",
      "loss 1.084333896636963\n",
      "Epoch 39\n",
      "loss 1.084036946296692\n",
      "Epoch 40\n",
      "loss 1.0837993621826172\n",
      "Epoch 41\n",
      "loss 1.0835870504379272\n",
      "Epoch 42\n",
      "loss 1.083406925201416\n",
      "Epoch 43\n",
      "loss 1.0832692384719849\n",
      "Epoch 44\n",
      "loss 1.083166241645813\n",
      "Epoch 45\n",
      "loss 1.08308744430542\n",
      "Epoch 46\n",
      "loss 1.0830210447311401\n",
      "Epoch 47\n",
      "loss 1.0829620361328125\n",
      "Epoch 48\n",
      "loss 1.0829085111618042\n",
      "Epoch 49\n",
      "loss 1.082859754562378\n",
      "Epoch 50\n",
      "loss 1.08281409740448\n",
      "Epoch 51\n",
      "loss 1.0827723741531372\n",
      "Epoch 52\n",
      "loss 1.0827349424362183\n",
      "Epoch 53\n",
      "loss 1.0827029943466187\n",
      "Epoch 54\n",
      "loss 1.0826762914657593\n",
      "Epoch 55\n",
      "loss 1.0826541185379028\n",
      "Epoch 56\n",
      "loss 1.0826340913772583\n",
      "Epoch 57\n",
      "loss 1.0826125144958496\n",
      "Epoch 58\n",
      "loss 1.082594394683838\n",
      "Epoch 59\n",
      "loss 1.0825775861740112\n",
      "Epoch 60\n",
      "loss 1.0825607776641846\n",
      "Epoch 61\n",
      "loss 1.0825436115264893\n",
      "Epoch 62\n",
      "loss 1.0825268030166626\n",
      "Epoch 63\n",
      "loss 1.082511305809021\n",
      "Epoch 64\n",
      "loss 1.0824967622756958\n",
      "Epoch 65\n",
      "loss 1.0824828147888184\n",
      "Epoch 66\n",
      "loss 1.0824697017669678\n",
      "Epoch 67\n",
      "loss 1.082457423210144\n",
      "Epoch 68\n",
      "loss 1.0824452638626099\n",
      "Epoch 69\n",
      "loss 1.0824332237243652\n",
      "Epoch 70\n",
      "loss 1.082421898841858\n",
      "Epoch 71\n",
      "loss 1.082411527633667\n",
      "Epoch 72\n",
      "loss 1.082401990890503\n",
      "Epoch 73\n",
      "loss 1.0823931694030762\n",
      "Epoch 74\n",
      "loss 1.0823843479156494\n",
      "Epoch 75\n",
      "loss 1.0823760032653809\n",
      "Epoch 76\n",
      "loss 1.0823684930801392\n",
      "Epoch 77\n",
      "loss 1.0823615789413452\n",
      "Epoch 78\n",
      "loss 1.082355260848999\n",
      "Epoch 79\n",
      "loss 1.082349419593811\n",
      "Epoch 80\n",
      "loss 1.0823439359664917\n",
      "Epoch 81\n",
      "loss 1.0823384523391724\n",
      "Epoch 82\n",
      "loss 1.0823330879211426\n",
      "Epoch 83\n",
      "loss 1.0823280811309814\n",
      "Epoch 84\n",
      "loss 1.0823230743408203\n",
      "Epoch 85\n",
      "loss 1.0823184251785278\n",
      "Epoch 86\n",
      "loss 1.0823137760162354\n",
      "Epoch 87\n",
      "loss 1.0823094844818115\n",
      "Epoch 88\n",
      "loss 1.0823055505752563\n",
      "Epoch 89\n",
      "loss 1.0823017358779907\n",
      "Epoch 90\n",
      "loss 1.0822981595993042\n",
      "Epoch 91\n",
      "loss 1.0822947025299072\n",
      "Epoch 92\n",
      "loss 1.0822912454605103\n",
      "Epoch 93\n",
      "loss 1.0822880268096924\n",
      "Epoch 94\n",
      "loss 1.082284927368164\n",
      "Epoch 95\n",
      "loss 1.0822818279266357\n",
      "Epoch 96\n",
      "loss 1.0822787284851074\n",
      "Epoch 97\n",
      "loss 1.0822758674621582\n",
      "Epoch 98\n",
      "loss 1.082273006439209\n",
      "Epoch 99\n",
      "loss 1.0822699069976807\n",
      "Epoch 100\n",
      "loss 1.0822672843933105\n"
     ]
    }
   ],
   "source": [
    "from torch.autograd import Variable\n",
    "import torch.nn.functional as F\n",
    "# 넘파이배열로부터 텐서를 만들고\n",
    "X_train = Variable(torch.from_numpy(X_train)).float()\n",
    "y_train = Variable(torch.from_numpy(y_train)).long()\n",
    "for epoch in range(1, epochs + 1):\n",
    "    print(\"Epoch\", epoch)\n",
    "    # 예측값\n",
    "    y_pred = model(X_train)\n",
    "    # 손실함수에 예측값과 실제값을 입력\n",
    "    loss = loss_fn(y_pred, y_train)\n",
    "    print('loss', loss.item())\n",
    "\n",
    "    # 경사 초기화\n",
    "    optimizer.zero_grad()\n",
    "    loss.backward() # 역전파\n",
    "    optimizer.step() # 가중치 업데이트"
   ]
  },
  {
   "cell_type": "code",
   "execution_count": 6,
   "metadata": {},
   "outputs": [
    {
     "data": {
      "text/plain": [
       "tensor([[2.4787e-07, 6.0184e-03, 3.1674e-05],\n",
       "        [2.6277e-02, 1.0398e-06, 3.1876e-12],\n",
       "        [2.3834e-07, 8.0187e-04, 6.6352e-05],\n",
       "        [6.7553e-08, 1.0452e-03, 3.3367e-04],\n",
       "        [4.2857e-06, 2.4123e-01, 2.1622e-07]], grad_fn=<SliceBackward0>)"
      ]
     },
     "execution_count": 6,
     "metadata": {},
     "output_type": "execute_result"
    }
   ],
   "source": [
    "# Prediction\n",
    "X_test = Variable(torch.from_numpy(X_test)).float()\n",
    "pred = model(X_test)\n",
    "pred[:5]"
   ]
  },
  {
   "cell_type": "code",
   "execution_count": 7,
   "metadata": {},
   "outputs": [
    {
     "data": {
      "text/plain": [
       "array([1, 0, 1, 1, 1, 1, 0, 2, 2, 0, 0, 1, 2, 2, 1, 0, 0, 1, 2, 0, 2, 2,\n",
       "       2, 0, 0, 1, 1, 0, 1, 1], dtype=int64)"
      ]
     },
     "execution_count": 7,
     "metadata": {},
     "output_type": "execute_result"
    }
   ],
   "source": [
    "import numpy as np\n",
    "np.argmax(pred.data.numpy(), axis=1)"
   ]
  },
  {
   "cell_type": "code",
   "execution_count": 8,
   "metadata": {},
   "outputs": [
    {
     "data": {
      "text/plain": [
       "0.9333333333333333"
      ]
     },
     "execution_count": 8,
     "metadata": {},
     "output_type": "execute_result"
    }
   ],
   "source": [
    "from sklearn.metrics import accuracy_score\n",
    "# 모형의 정확도 측정\n",
    "accuracy_score(y_test, np.argmax(pred.data.numpy(), axis=1))"
   ]
  },
  {
   "cell_type": "code",
   "execution_count": 9,
   "metadata": {},
   "outputs": [],
   "source": [
    "torch.save(model, \"../models/iris/iris-torch.model\")"
   ]
  },
  {
   "cell_type": "code",
   "execution_count": 10,
   "metadata": {},
   "outputs": [
    {
     "data": {
      "text/plain": [
       "2"
      ]
     },
     "execution_count": 10,
     "metadata": {},
     "output_type": "execute_result"
    }
   ],
   "source": [
    "model2 = torch.load(\"../models/iris/iris-torch.model\")\n",
    "np.argmax(model2(X_test[0]).data.numpy())"
   ]
  },
  {
   "cell_type": "code",
   "execution_count": 11,
   "metadata": {},
   "outputs": [
    {
     "data": {
      "text/plain": [
       "==========================================================================================\n",
       "Layer (type:depth-idx)                   Output Shape              Param #\n",
       "==========================================================================================\n",
       "Model                                    [32, 3]                   --\n",
       "├─Linear: 1-1                            [32, 50]                  250\n",
       "├─Linear: 1-2                            [32, 20]                  1,020\n",
       "├─Linear: 1-3                            [32, 3]                   63\n",
       "==========================================================================================\n",
       "Total params: 1,333\n",
       "Trainable params: 1,333\n",
       "Non-trainable params: 0\n",
       "Total mult-adds (M): 0.04\n",
       "==========================================================================================\n",
       "Input size (MB): 0.00\n",
       "Forward/backward pass size (MB): 0.02\n",
       "Params size (MB): 0.01\n",
       "Estimated Total Size (MB): 0.02\n",
       "=========================================================================================="
      ]
     },
     "execution_count": 11,
     "metadata": {},
     "output_type": "execute_result"
    }
   ],
   "source": [
    "from torchinfo import summary\n",
    "summary(model, input_size=(32, 4))"
   ]
  }
 ],
 "metadata": {
  "kernelspec": {
   "display_name": "base",
   "language": "python",
   "name": "python3"
  },
  "language_info": {
   "codemirror_mode": {
    "name": "ipython",
    "version": 3
   },
   "file_extension": ".py",
   "mimetype": "text/x-python",
   "name": "python",
   "nbconvert_exporter": "python",
   "pygments_lexer": "ipython3",
   "version": "3.9.13"
  },
  "orig_nbformat": 4
 },
 "nbformat": 4,
 "nbformat_minor": 2
}
