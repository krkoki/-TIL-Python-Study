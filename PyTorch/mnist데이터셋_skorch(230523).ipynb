{
 "cells": [
  {
   "cell_type": "code",
   "execution_count": 1,
   "metadata": {},
   "outputs": [],
   "source": [
    "# skorch : pytorch를 쉽게 구현할 수 있는 라이브러리\n",
    "from keras.datasets import mnist\n",
    "(X_train, y_train), (X_test, y_test) = mnist.load_data()"
   ]
  },
  {
   "cell_type": "code",
   "execution_count": 2,
   "metadata": {},
   "outputs": [],
   "source": [
    "X_train = X_train.reshape(-1,784)\n",
    "X_test = X_test.reshape(-1,784)\n",
    "X_train = X_train / 255.\n",
    "X_test = X_test / 255."
   ]
  },
  {
   "cell_type": "code",
   "execution_count": 3,
   "metadata": {},
   "outputs": [
    {
     "name": "stdout",
     "output_type": "stream",
     "text": [
      "torch.Size([60000, 784])\n",
      "torch.Size([10000, 784])\n"
     ]
    }
   ],
   "source": [
    "import torch\n",
    "X_train = torch.from_numpy(X_train).float()\n",
    "y_train = torch.from_numpy(y_train.astype('int32')).long()\n",
    "X_test = torch.from_numpy(X_test).float()\n",
    "y_test = torch.from_numpy(y_test.astype('int32')).long()\n",
    "print(X_train.shape)\n",
    "print(X_test.shape)\n",
    "X_train=X_train.cuda()\n",
    "y_train=y_train.cuda()\n",
    "X_test=X_test.cuda()\n",
    "y_test=y_test.cuda()"
   ]
  },
  {
   "cell_type": "code",
   "execution_count": 4,
   "metadata": {},
   "outputs": [],
   "source": [
    "import torch.nn as nn\n",
    "import torch.nn.functional as F\n",
    "\n",
    "# 신경망 구성\n",
    "class Net(nn.Module):\n",
    "    def __init__(self):\n",
    "        super(Net, self).__init__()\n",
    "        self.fc1 = nn.Linear(784, 128)\n",
    "        self.fc2 = nn.Linear(128, 10)\n",
    "    def forward(self, x):\n",
    "        x = F.relu(self.fc1(x))\n",
    "        x = self.fc2(x)\n",
    "        return F.softmax(x, dim=-1)\n",
    "model=Net().cuda()"
   ]
  },
  {
   "cell_type": "code",
   "execution_count": 5,
   "metadata": {},
   "outputs": [
    {
     "name": "stdout",
     "output_type": "stream",
     "text": [
      "  epoch    train_loss    valid_acc    valid_loss     dur\n",
      "-------  ------------  -----------  ------------  ------\n",
      "      1        \u001b[36m0.6491\u001b[0m       \u001b[32m0.8987\u001b[0m        \u001b[35m0.3506\u001b[0m  2.0175\n",
      "      2        \u001b[36m0.3159\u001b[0m       \u001b[32m0.9181\u001b[0m        \u001b[35m0.2859\u001b[0m  1.8959\n",
      "      3        \u001b[36m0.2647\u001b[0m       \u001b[32m0.9286\u001b[0m        \u001b[35m0.2473\u001b[0m  2.0151\n",
      "      4        \u001b[36m0.2295\u001b[0m       \u001b[32m0.9364\u001b[0m        \u001b[35m0.2194\u001b[0m  2.1958\n",
      "      5        \u001b[36m0.2026\u001b[0m       \u001b[32m0.9423\u001b[0m        \u001b[35m0.1980\u001b[0m  3.3811\n",
      "      6        \u001b[36m0.1811\u001b[0m       \u001b[32m0.9481\u001b[0m        \u001b[35m0.1816\u001b[0m  2.1629\n",
      "      7        \u001b[36m0.1632\u001b[0m       \u001b[32m0.9526\u001b[0m        \u001b[35m0.1681\u001b[0m  2.0698\n",
      "      8        \u001b[36m0.1481\u001b[0m       \u001b[32m0.9559\u001b[0m        \u001b[35m0.1571\u001b[0m  2.1118\n",
      "      9        \u001b[36m0.1352\u001b[0m       \u001b[32m0.9582\u001b[0m        \u001b[35m0.1476\u001b[0m  3.4345\n",
      "     10        \u001b[36m0.1241\u001b[0m       \u001b[32m0.9590\u001b[0m        \u001b[35m0.1400\u001b[0m  1.8541\n",
      "     11        \u001b[36m0.1146\u001b[0m       \u001b[32m0.9617\u001b[0m        \u001b[35m0.1332\u001b[0m  1.7332\n",
      "     12        \u001b[36m0.1063\u001b[0m       \u001b[32m0.9634\u001b[0m        \u001b[35m0.1275\u001b[0m  1.8909\n",
      "     13        \u001b[36m0.0990\u001b[0m       \u001b[32m0.9642\u001b[0m        \u001b[35m0.1224\u001b[0m  1.8642\n",
      "     14        \u001b[36m0.0926\u001b[0m       \u001b[32m0.9661\u001b[0m        \u001b[35m0.1182\u001b[0m  1.9005\n",
      "     15        \u001b[36m0.0869\u001b[0m       \u001b[32m0.9668\u001b[0m        \u001b[35m0.1142\u001b[0m  1.9001\n",
      "     16        \u001b[36m0.0817\u001b[0m       \u001b[32m0.9674\u001b[0m        \u001b[35m0.1108\u001b[0m  1.9140\n",
      "     17        \u001b[36m0.0770\u001b[0m       \u001b[32m0.9686\u001b[0m        \u001b[35m0.1077\u001b[0m  2.0284\n",
      "     18        \u001b[36m0.0727\u001b[0m       \u001b[32m0.9692\u001b[0m        \u001b[35m0.1047\u001b[0m  2.4425\n",
      "     19        \u001b[36m0.0689\u001b[0m       \u001b[32m0.9698\u001b[0m        \u001b[35m0.1022\u001b[0m  4.0222\n",
      "     20        \u001b[36m0.0653\u001b[0m       \u001b[32m0.9701\u001b[0m        \u001b[35m0.0999\u001b[0m  2.4288\n"
     ]
    },
    {
     "data": {
      "text/plain": [
       "<class 'skorch.classifier.NeuralNetClassifier'>[initialized](\n",
       "  module_=Net(\n",
       "    (fc1): Linear(in_features=784, out_features=128, bias=True)\n",
       "    (fc2): Linear(in_features=128, out_features=10, bias=True)\n",
       "  ),\n",
       ")"
      ]
     },
     "execution_count": 5,
     "metadata": {},
     "output_type": "execute_result"
    }
   ],
   "source": [
    "# pip install skorch\n",
    "from skorch import NeuralNetClassifier\n",
    "net = NeuralNetClassifier(Net,max_epochs=20,lr=0.1)\n",
    "net.fit(X_train, y_train)"
   ]
  },
  {
   "cell_type": "code",
   "execution_count": 6,
   "metadata": {},
   "outputs": [
    {
     "data": {
      "text/plain": [
       "0.9724"
      ]
     },
     "execution_count": 6,
     "metadata": {},
     "output_type": "execute_result"
    }
   ],
   "source": [
    "import numpy as np\n",
    "# 모형의 정확도 계산\n",
    "pred = net.predict(X_test)\n",
    "y_test = y_test.cpu().numpy()\n",
    "accuracy = np.mean(pred == y_test)\n",
    "accuracy"
   ]
  },
  {
   "cell_type": "code",
   "execution_count": 7,
   "metadata": {},
   "outputs": [
    {
     "data": {
      "text/plain": [
       "==========================================================================================\n",
       "Layer (type:depth-idx)                   Output Shape              Param #\n",
       "==========================================================================================\n",
       "Net                                      [100, 10]                 --\n",
       "├─Linear: 1-1                            [100, 128]                100,480\n",
       "├─Linear: 1-2                            [100, 10]                 1,290\n",
       "==========================================================================================\n",
       "Total params: 101,770\n",
       "Trainable params: 101,770\n",
       "Non-trainable params: 0\n",
       "Total mult-adds (M): 10.18\n",
       "==========================================================================================\n",
       "Input size (MB): 0.31\n",
       "Forward/backward pass size (MB): 0.11\n",
       "Params size (MB): 0.41\n",
       "Estimated Total Size (MB): 0.83\n",
       "=========================================================================================="
      ]
     },
     "execution_count": 7,
     "metadata": {},
     "output_type": "execute_result"
    }
   ],
   "source": [
    "from torchinfo import summary\n",
    "summary(model, input_size=(100,784))"
   ]
  }
 ],
 "metadata": {
  "kernelspec": {
   "display_name": "base",
   "language": "python",
   "name": "python3"
  },
  "language_info": {
   "codemirror_mode": {
    "name": "ipython",
    "version": 3
   },
   "file_extension": ".py",
   "mimetype": "text/x-python",
   "name": "python",
   "nbconvert_exporter": "python",
   "pygments_lexer": "ipython3",
   "version": "3.9.13"
  },
  "orig_nbformat": 4
 },
 "nbformat": 4,
 "nbformat_minor": 2
}
