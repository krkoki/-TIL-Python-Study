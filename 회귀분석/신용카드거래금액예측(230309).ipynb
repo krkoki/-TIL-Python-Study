{
 "cells": [
  {
   "cell_type": "code",
   "execution_count": null,
   "metadata": {},
   "outputs": [],
   "source": [
    "# 2013년 9월 유럽 카드 소지자가 신용카드로 거래한 내용, 284807 건의 거래 가운데 492건의 사기거래\n",
    "# 변수 v1~v28, Amount 거래 금액, Class 0/1 정상거래/사기거래"
   ]
  },
  {
   "cell_type": "code",
   "execution_count": 1,
   "metadata": {},
   "outputs": [],
   "source": [
    "import pandas as pd\n",
    "import matplotlib.pyplot as plt\n",
    "import seaborn as sns"
   ]
  },
  {
   "cell_type": "code",
   "execution_count": 2,
   "metadata": {},
   "outputs": [
    {
     "data": {
      "text/html": [
       "<div>\n",
       "<style scoped>\n",
       "    .dataframe tbody tr th:only-of-type {\n",
       "        vertical-align: middle;\n",
       "    }\n",
       "\n",
       "    .dataframe tbody tr th {\n",
       "        vertical-align: top;\n",
       "    }\n",
       "\n",
       "    .dataframe thead th {\n",
       "        text-align: right;\n",
       "    }\n",
       "</style>\n",
       "<table border=\"1\" class=\"dataframe\">\n",
       "  <thead>\n",
       "    <tr style=\"text-align: right;\">\n",
       "      <th></th>\n",
       "      <th>Time</th>\n",
       "      <th>V1</th>\n",
       "      <th>V2</th>\n",
       "      <th>V3</th>\n",
       "      <th>V4</th>\n",
       "      <th>V5</th>\n",
       "      <th>V6</th>\n",
       "      <th>V7</th>\n",
       "      <th>V8</th>\n",
       "      <th>V9</th>\n",
       "      <th>...</th>\n",
       "      <th>V21</th>\n",
       "      <th>V22</th>\n",
       "      <th>V23</th>\n",
       "      <th>V24</th>\n",
       "      <th>V25</th>\n",
       "      <th>V26</th>\n",
       "      <th>V27</th>\n",
       "      <th>V28</th>\n",
       "      <th>Amount</th>\n",
       "      <th>Class</th>\n",
       "    </tr>\n",
       "  </thead>\n",
       "  <tbody>\n",
       "    <tr>\n",
       "      <th>0</th>\n",
       "      <td>0.0</td>\n",
       "      <td>-1.359807</td>\n",
       "      <td>-0.072781</td>\n",
       "      <td>2.536347</td>\n",
       "      <td>1.378155</td>\n",
       "      <td>-0.338321</td>\n",
       "      <td>0.462388</td>\n",
       "      <td>0.239599</td>\n",
       "      <td>0.098698</td>\n",
       "      <td>0.363787</td>\n",
       "      <td>...</td>\n",
       "      <td>-0.018307</td>\n",
       "      <td>0.277838</td>\n",
       "      <td>-0.110474</td>\n",
       "      <td>0.066928</td>\n",
       "      <td>0.128539</td>\n",
       "      <td>-0.189115</td>\n",
       "      <td>0.133558</td>\n",
       "      <td>-0.021053</td>\n",
       "      <td>149.62</td>\n",
       "      <td>0</td>\n",
       "    </tr>\n",
       "    <tr>\n",
       "      <th>1</th>\n",
       "      <td>0.0</td>\n",
       "      <td>1.191857</td>\n",
       "      <td>0.266151</td>\n",
       "      <td>0.166480</td>\n",
       "      <td>0.448154</td>\n",
       "      <td>0.060018</td>\n",
       "      <td>-0.082361</td>\n",
       "      <td>-0.078803</td>\n",
       "      <td>0.085102</td>\n",
       "      <td>-0.255425</td>\n",
       "      <td>...</td>\n",
       "      <td>-0.225775</td>\n",
       "      <td>-0.638672</td>\n",
       "      <td>0.101288</td>\n",
       "      <td>-0.339846</td>\n",
       "      <td>0.167170</td>\n",
       "      <td>0.125895</td>\n",
       "      <td>-0.008983</td>\n",
       "      <td>0.014724</td>\n",
       "      <td>2.69</td>\n",
       "      <td>0</td>\n",
       "    </tr>\n",
       "    <tr>\n",
       "      <th>2</th>\n",
       "      <td>1.0</td>\n",
       "      <td>-1.358354</td>\n",
       "      <td>-1.340163</td>\n",
       "      <td>1.773209</td>\n",
       "      <td>0.379780</td>\n",
       "      <td>-0.503198</td>\n",
       "      <td>1.800499</td>\n",
       "      <td>0.791461</td>\n",
       "      <td>0.247676</td>\n",
       "      <td>-1.514654</td>\n",
       "      <td>...</td>\n",
       "      <td>0.247998</td>\n",
       "      <td>0.771679</td>\n",
       "      <td>0.909412</td>\n",
       "      <td>-0.689281</td>\n",
       "      <td>-0.327642</td>\n",
       "      <td>-0.139097</td>\n",
       "      <td>-0.055353</td>\n",
       "      <td>-0.059752</td>\n",
       "      <td>378.66</td>\n",
       "      <td>0</td>\n",
       "    </tr>\n",
       "    <tr>\n",
       "      <th>3</th>\n",
       "      <td>1.0</td>\n",
       "      <td>-0.966272</td>\n",
       "      <td>-0.185226</td>\n",
       "      <td>1.792993</td>\n",
       "      <td>-0.863291</td>\n",
       "      <td>-0.010309</td>\n",
       "      <td>1.247203</td>\n",
       "      <td>0.237609</td>\n",
       "      <td>0.377436</td>\n",
       "      <td>-1.387024</td>\n",
       "      <td>...</td>\n",
       "      <td>-0.108300</td>\n",
       "      <td>0.005274</td>\n",
       "      <td>-0.190321</td>\n",
       "      <td>-1.175575</td>\n",
       "      <td>0.647376</td>\n",
       "      <td>-0.221929</td>\n",
       "      <td>0.062723</td>\n",
       "      <td>0.061458</td>\n",
       "      <td>123.50</td>\n",
       "      <td>0</td>\n",
       "    </tr>\n",
       "    <tr>\n",
       "      <th>4</th>\n",
       "      <td>2.0</td>\n",
       "      <td>-1.158233</td>\n",
       "      <td>0.877737</td>\n",
       "      <td>1.548718</td>\n",
       "      <td>0.403034</td>\n",
       "      <td>-0.407193</td>\n",
       "      <td>0.095921</td>\n",
       "      <td>0.592941</td>\n",
       "      <td>-0.270533</td>\n",
       "      <td>0.817739</td>\n",
       "      <td>...</td>\n",
       "      <td>-0.009431</td>\n",
       "      <td>0.798278</td>\n",
       "      <td>-0.137458</td>\n",
       "      <td>0.141267</td>\n",
       "      <td>-0.206010</td>\n",
       "      <td>0.502292</td>\n",
       "      <td>0.219422</td>\n",
       "      <td>0.215153</td>\n",
       "      <td>69.99</td>\n",
       "      <td>0</td>\n",
       "    </tr>\n",
       "  </tbody>\n",
       "</table>\n",
       "<p>5 rows × 31 columns</p>\n",
       "</div>"
      ],
      "text/plain": [
       "   Time        V1        V2        V3        V4        V5        V6        V7  \\\n",
       "0   0.0 -1.359807 -0.072781  2.536347  1.378155 -0.338321  0.462388  0.239599   \n",
       "1   0.0  1.191857  0.266151  0.166480  0.448154  0.060018 -0.082361 -0.078803   \n",
       "2   1.0 -1.358354 -1.340163  1.773209  0.379780 -0.503198  1.800499  0.791461   \n",
       "3   1.0 -0.966272 -0.185226  1.792993 -0.863291 -0.010309  1.247203  0.237609   \n",
       "4   2.0 -1.158233  0.877737  1.548718  0.403034 -0.407193  0.095921  0.592941   \n",
       "\n",
       "         V8        V9  ...       V21       V22       V23       V24       V25  \\\n",
       "0  0.098698  0.363787  ... -0.018307  0.277838 -0.110474  0.066928  0.128539   \n",
       "1  0.085102 -0.255425  ... -0.225775 -0.638672  0.101288 -0.339846  0.167170   \n",
       "2  0.247676 -1.514654  ...  0.247998  0.771679  0.909412 -0.689281 -0.327642   \n",
       "3  0.377436 -1.387024  ... -0.108300  0.005274 -0.190321 -1.175575  0.647376   \n",
       "4 -0.270533  0.817739  ... -0.009431  0.798278 -0.137458  0.141267 -0.206010   \n",
       "\n",
       "        V26       V27       V28  Amount  Class  \n",
       "0 -0.189115  0.133558 -0.021053  149.62      0  \n",
       "1  0.125895 -0.008983  0.014724    2.69      0  \n",
       "2 -0.139097 -0.055353 -0.059752  378.66      0  \n",
       "3 -0.221929  0.062723  0.061458  123.50      0  \n",
       "4  0.502292  0.219422  0.215153   69.99      0  \n",
       "\n",
       "[5 rows x 31 columns]"
      ]
     },
     "execution_count": 2,
     "metadata": {},
     "output_type": "execute_result"
    }
   ],
   "source": [
    "# 신용카드 거래 데이터 csv 파일을 로딩(원본)\n",
    "df = pd.read_csv('d:/workspace/Python2/data/creditcard/data.csv')\n",
    "df.head()"
   ]
  },
  {
   "cell_type": "code",
   "execution_count": 4,
   "metadata": {},
   "outputs": [],
   "source": [
    "#한글 처리를 위해 폰트 설정\n",
    "from matplotlib import font_manager, rc\n",
    "font_name = font_manager.FontProperties(fname=\"c:/Windows/Fonts/malgun.ttf\").get_name()\n",
    "rc('font', family=font_name)"
   ]
  },
  {
   "cell_type": "code",
   "execution_count": 5,
   "metadata": {},
   "outputs": [
    {
     "name": "stderr",
     "output_type": "stream",
     "text": [
      "c:\\Anaconda3\\lib\\site-packages\\seaborn\\_decorators.py:36: FutureWarning: Pass the following variable as a keyword arg: x. From version 0.12, the only valid positional argument will be `data`, and passing other arguments without an explicit keyword will result in an error or misinterpretation.\n",
      "  warnings.warn(\n"
     ]
    },
    {
     "data": {
      "text/plain": [
       "Text(0.5, 1.0, '분류\\n (0 : 정상거래 || 1 : 사기거래)')"
      ]
     },
     "execution_count": 5,
     "metadata": {},
     "output_type": "execute_result"
    },
    {
     "data": {
      "image/png": "[encoded data removed]",
      "text/plain": [
       "<Figure size 640x480 with 1 Axes>"
      ]
     },
     "metadata": {},
     "output_type": "display_data"
    }
   ],
   "source": [
    "colors = [\"blue\", 'red']\n",
    "\n",
    "sns.countplot('Class', data=df, palette=colors)\n",
    "plt.title('분류\\n (0 : 정상거래 || 1 : 사기거래)', fontsize=14)\n",
    "# 불균형 데이터셋"
   ]
  },
  {
   "cell_type": "code",
   "execution_count": 6,
   "metadata": {},
   "outputs": [
    {
     "name": "stdout",
     "output_type": "stream",
     "text": [
      "사기거래\n",
      "count     492.000000\n",
      "mean      122.211321\n",
      "std       256.683288\n",
      "min         0.000000\n",
      "25%         1.000000\n",
      "50%         9.250000\n",
      "75%       105.890000\n",
      "max      2125.870000\n",
      "Name: Amount, dtype: float64\n",
      "\n",
      "정상거래\n",
      "count    284315.000000\n",
      "mean         88.291022\n",
      "std         250.105092\n",
      "min           0.000000\n",
      "25%           5.650000\n",
      "50%          22.000000\n",
      "75%          77.050000\n",
      "max       25691.160000\n",
      "Name: Amount, dtype: float64\n"
     ]
    }
   ],
   "source": [
    "print(\"사기거래\")\n",
    "print(df.Amount[df.Class ==1].describe())\n",
    "print()\n",
    "print(\"정상거래\")\n",
    "print(df.Amount[df.Class ==0].describe())\n",
    "\n",
    "# 사기거래 492건, 정상거래 284315건"
   ]
  },
  {
   "cell_type": "code",
   "execution_count": 7,
   "metadata": {},
   "outputs": [],
   "source": [
    "train_cols = df.columns[1:29]\n",
    "\n",
    "X = df[train_cols] # 독립변수\n",
    "y = df[\"Amount\"]"
   ]
  },
  {
   "cell_type": "code",
   "execution_count": 8,
   "metadata": {},
   "outputs": [],
   "source": [
    "from sklearn.model_selection import train_test_split # 데이터셋을 나눔\n",
    "\n",
    "X_train, X_test, y_train, y_test = train_test_split(X, y, test_size=0.2, random_state=10)"
   ]
  },
  {
   "cell_type": "code",
   "execution_count": 9,
   "metadata": {},
   "outputs": [
    {
     "name": "stdout",
     "output_type": "stream",
     "text": [
      "회귀계수 :  V1     -29.071163\n",
      "V2     -80.740965\n",
      "V3     -34.990065\n",
      "V4      17.634759\n",
      "V5     -70.401473\n",
      "V6      40.960005\n",
      "V7      80.872687\n",
      "V8     -21.747735\n",
      "V9      -9.858902\n",
      "V10    -23.512566\n",
      "V11     -0.032073\n",
      "V12     -2.442332\n",
      "V13      1.471566\n",
      "V14      8.686637\n",
      "V15     -0.765415\n",
      "V16     -0.958718\n",
      "V17      1.750542\n",
      "V18     10.561197\n",
      "V19    -17.228021\n",
      "V20    109.111737\n",
      "V21     36.131645\n",
      "V22    -22.338471\n",
      "V23    -45.934831\n",
      "V24      2.164762\n",
      "V25    -22.725643\n",
      "V26     -1.270434\n",
      "V27     19.827197\n",
      "V28      7.125640\n",
      "dtype: float64\n",
      "R-squared 0.8140433994103969\n",
      "P-value :  V1      0.000000e+00\n",
      "V2      0.000000e+00\n",
      "V3      0.000000e+00\n",
      "V4      0.000000e+00\n",
      "V5      0.000000e+00\n",
      "V6      0.000000e+00\n",
      "V7      0.000000e+00\n",
      "V8      0.000000e+00\n",
      "V9      0.000000e+00\n",
      "V10     0.000000e+00\n",
      "V11     8.908527e-01\n",
      "V12     1.411787e-24\n",
      "V13     8.025868e-10\n",
      "V14    1.903362e-265\n",
      "V15     3.279689e-03\n",
      "V16     4.377964e-04\n",
      "V17     4.152944e-10\n",
      "V18    3.816983e-301\n",
      "V19     0.000000e+00\n",
      "V20     0.000000e+00\n",
      "V21     0.000000e+00\n",
      "V22     0.000000e+00\n",
      "V23     0.000000e+00\n",
      "V24     3.881635e-08\n",
      "V25     0.000000e+00\n",
      "V26     1.014109e-02\n",
      "V27    2.912978e-248\n",
      "V28     1.376318e-23\n",
      "dtype: float64\n",
      "                                 OLS Regression Results                                \n",
      "=======================================================================================\n",
      "Dep. Variable:                 Amount   R-squared (uncentered):                   0.814\n",
      "Model:                            OLS   Adj. R-squared (uncentered):              0.814\n",
      "Method:                 Least Squares   F-statistic:                          3.562e+04\n",
      "Date:                Thu, 09 Mar 2023   Prob (F-statistic):                        0.00\n",
      "Time:                        15:05:01   Log-Likelihood:                     -1.4021e+06\n",
      "No. Observations:              227845   AIC:                                  2.804e+06\n",
      "Df Residuals:                  227817   BIC:                                  2.805e+06\n",
      "Df Model:                          28                                                  \n",
      "Covariance Type:            nonrobust                                                  \n",
      "==============================================================================\n",
      "                 coef    std err          t      P>|t|      [0.025      0.975]\n",
      "------------------------------------------------------------------------------\n",
      "V1           -29.0712      0.122   -238.550      0.000     -29.310     -28.832\n",
      "V2           -80.7410      0.144   -559.103      0.000     -81.024     -80.458\n",
      "V3           -34.9901      0.157   -222.699      0.000     -35.298     -34.682\n",
      "V4            17.6348      0.169    104.571      0.000      17.304      17.965\n",
      "V5           -70.4015      0.172   -408.924      0.000     -70.739     -70.064\n",
      "V6            40.9600      0.179    229.221      0.000      40.610      41.310\n",
      "V7            80.8727      0.192    420.793      0.000      80.496      81.249\n",
      "V8           -21.7477      0.201   -108.455      0.000     -22.141     -21.355\n",
      "V9            -9.8589      0.217    -45.371      0.000     -10.285      -9.433\n",
      "V10          -23.5126      0.219   -107.411      0.000     -23.942     -23.084\n",
      "V11           -0.0321      0.234     -0.137      0.891      -0.490       0.426\n",
      "V12           -2.4423      0.239    -10.234      0.000      -2.910      -1.975\n",
      "V13            1.4716      0.239      6.145      0.000       1.002       1.941\n",
      "V14            8.6866      0.249     34.853      0.000       8.198       9.175\n",
      "V15           -0.7654      0.260     -2.940      0.003      -1.276      -0.255\n",
      "V16           -0.9587      0.273     -3.516      0.000      -1.493      -0.424\n",
      "V17            1.7505      0.280      6.248      0.000       1.201       2.300\n",
      "V18           10.5612      0.284     37.148      0.000      10.004      11.118\n",
      "V19          -17.2280      0.293    -58.781      0.000     -17.802     -16.654\n",
      "V20          109.1117      0.311    350.781      0.000     108.502     109.721\n",
      "V21           36.1316      0.328    110.291      0.000      35.490      36.774\n",
      "V22          -22.3385      0.329    -67.881      0.000     -22.983     -21.693\n",
      "V23          -45.9348      0.387   -118.681      0.000     -46.693     -45.176\n",
      "V24            2.1648      0.394      5.496      0.000       1.393       2.937\n",
      "V25          -22.7256      0.459    -49.542      0.000     -23.625     -21.827\n",
      "V26           -1.2704      0.494     -2.571      0.010      -2.239      -0.302\n",
      "V27           19.8272      0.588     33.694      0.000      18.674      20.981\n",
      "V28            7.1256      0.712     10.011      0.000       5.731       8.521\n",
      "==============================================================================\n",
      "Omnibus:                   391012.898   Durbin-Watson:                   0.796\n",
      "Prob(Omnibus):                  0.000   Jarque-Bera (JB):      13742252161.964\n",
      "Skew:                         -10.605   Prob(JB):                         0.00\n",
      "Kurtosis:                    1205.949   Cond. No.                         5.84\n",
      "==============================================================================\n",
      "\n",
      "Notes:\n",
      "[1] R² is computed without centering (uncentered) since the model does not contain a constant.\n",
      "[2] Standard Errors assume that the covariance matrix of the errors is correctly specified.\n"
     ]
    }
   ],
   "source": [
    "# 다중 회귀분석\n",
    "import statsmodels.api as sm\n",
    "\n",
    "model = sm.OLS(y_train, X_train)\n",
    "result = model.fit()\n",
    "\n",
    "print(\"회귀계수 : \", result.params)\n",
    "print(\"R-squared\", result.rsquared)\n",
    "print(\"P-value : \", result.pvalues)\n",
    "\n",
    "# 요약 결과\n",
    "print(result.summary())"
   ]
  },
  {
   "cell_type": "code",
   "execution_count": 10,
   "metadata": {},
   "outputs": [
    {
     "data": {
      "text/plain": [
       "0.8000119299914439"
      ]
     },
     "execution_count": 10,
     "metadata": {},
     "output_type": "execute_result"
    }
   ],
   "source": [
    "from sklearn.metrics import r2_score\n",
    "pred = result.predict(X_test)\n",
    "r2_score(y_test, pred)"
   ]
  },
  {
   "cell_type": "code",
   "execution_count": 11,
   "metadata": {},
   "outputs": [],
   "source": [
    "from sklearn.linear_model import LinearRegression\n",
    "model = LinearRegression().fit(X_train, y_train)"
   ]
  },
  {
   "cell_type": "code",
   "execution_count": 12,
   "metadata": {},
   "outputs": [
    {
     "name": "stdout",
     "output_type": "stream",
     "text": [
      "학습용: 0.9166679569637542\n",
      "검증용: 0.920240380985743\n"
     ]
    }
   ],
   "source": [
    "print(\"학습용:\", model.score(X_train, y_train))\n",
    "print(\"검증용:\", model.score(X_test, y_test))"
   ]
  }
 ],
 "metadata": {
  "kernelspec": {
   "display_name": "base",
   "language": "python",
   "name": "python3"
  },
  "language_info": {
   "codemirror_mode": {
    "name": "ipython",
    "version": 3
   },
   "file_extension": ".py",
   "mimetype": "text/x-python",
   "name": "python",
   "nbconvert_exporter": "python",
   "pygments_lexer": "ipython3",
   "version": "3.9.13"
  },
  "orig_nbformat": 4
 },
 "nbformat": 4,
 "nbformat_minor": 2
}
