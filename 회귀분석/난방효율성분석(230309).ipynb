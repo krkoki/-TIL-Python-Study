{
 "cells": [
  {
   "cell_type": "code",
   "execution_count": 1,
   "metadata": {},
   "outputs": [],
   "source": [
    "#에너지 효율성 데이터셋\n",
    "#건축 구조의 기본 요소인 건물 표면적, 벽과 지붕 면적, 높이, 사각지대, 건물 외형의 간결성,\n",
    "#건물의 난방과 냉방 효율의 관계 등을 조사한 데이터\n",
    "#18가지의 건축 특성을 지닌 12가지의 건축 속성, 총 768채의 주택조사\n",
    "\n",
    "# X1 : 상대적 크기\n",
    "# X2 : 건축 표면적\n",
    "# X3 : 벽체 면적\n",
    "# X4 : 지붕 면적\n",
    "# X5 : 전체 높이\n",
    "# X6 : 건물의 방위\n",
    "# X7 : 유리창 면적\n",
    "# X8 : 유리창 면적의 분산\n",
    "# Y1 : 난방 하중\n",
    "# Y2 : 냉방 하중"
   ]
  },
  {
   "cell_type": "code",
   "execution_count": 2,
   "metadata": {},
   "outputs": [],
   "source": [
    "import pandas as pd\n",
    "import matplotlib.pyplot as plt\n",
    "import seaborn as sns\n",
    "from scipy import stats"
   ]
  },
  {
   "cell_type": "code",
   "execution_count": 3,
   "metadata": {},
   "outputs": [],
   "source": [
    "df = pd.read_csv('d:/workspace/Python2/data/energy/ENB2012_data.csv')\n",
    "df = df.rename(columns={'X1' : '상대적 크기', 'X2' : '건축 표면적', \n",
    "               'X3' : '벽체 면적', 'X4' : '지붕 면적', \n",
    "               'X5' : '전체 높이', 'X6' : '건물의 방위', \n",
    "               'X7' : '유리창 면적', 'X8' : '유리창 면적의 분산'})"
   ]
  },
  {
   "attachments": {},
   "cell_type": "markdown",
   "metadata": {},
   "source": [
    "난방 다중 회귀분석"
   ]
  },
  {
   "cell_type": "code",
   "execution_count": 4,
   "metadata": {},
   "outputs": [],
   "source": [
    "train_cols = df.columns[0:8]\n",
    "\n",
    "X = df[train_cols]\n",
    "y = df[\"Y1\"]"
   ]
  },
  {
   "cell_type": "code",
   "execution_count": 5,
   "metadata": {},
   "outputs": [
    {
     "name": "stdout",
     "output_type": "stream",
     "text": [
      "회귀계수\n",
      " 상대적 크기       -20.044164\n",
      "건축 표면적        -0.003688\n",
      "벽체 면적          0.032209\n",
      "지붕 면적         -0.017948\n",
      "전체 높이          5.296760\n",
      "건물의 방위        -0.016048\n",
      "유리창 면적        19.960788\n",
      "유리창 면적의 분산     0.206301\n",
      "dtype: float64\n",
      "R-squared\n",
      " 0.9854178233673888\n",
      "P values\n",
      " 상대적 크기        1.208838e-26\n",
      "건축 표면적        3.694529e-03\n",
      "벽체 면적         1.019875e-16\n",
      "지붕 면적         5.043470e-13\n",
      "전체 높이         5.420160e-93\n",
      "건물의 방위        8.670525e-01\n",
      "유리창 면적        1.400196e-96\n",
      "유리창 면적의 분산    3.655121e-03\n",
      "dtype: float64\n",
      "                                 OLS Regression Results                                \n",
      "=======================================================================================\n",
      "Dep. Variable:                     Y1   R-squared (uncentered):                   0.985\n",
      "Model:                            OLS   Adj. R-squared (uncentered):              0.985\n",
      "Method:                 Least Squares   F-statistic:                              7347.\n",
      "Date:                Thu, 09 Mar 2023   Prob (F-statistic):                        0.00\n",
      "Time:                        15:49:13   Log-Likelihood:                         -1922.2\n",
      "No. Observations:                 768   AIC:                                      3858.\n",
      "Df Residuals:                     761   BIC:                                      3891.\n",
      "Df Model:                           7                                                  \n",
      "Covariance Type:            nonrobust                                                  \n",
      "==============================================================================\n",
      "                 coef    std err          t      P>|t|      [0.025      0.975]\n",
      "------------------------------------------------------------------------------\n",
      "상대적 크기       -20.0442      1.806    -11.101      0.000     -23.589     -16.500\n",
      "건축 표면적        -0.0037      0.001     -2.912      0.004      -0.006      -0.001\n",
      "벽체 면적          0.0322      0.004      8.497      0.000       0.025       0.040\n",
      "지붕 면적         -0.0179      0.002     -7.352      0.000      -0.023      -0.013\n",
      "전체 높이          5.2968      0.224     23.627      0.000       4.857       5.737\n",
      "건물의 방위        -0.0160      0.096     -0.167      0.867      -0.204       0.172\n",
      "유리창 면적        19.9608      0.824     24.231      0.000      18.344      21.578\n",
      "유리창 면적의 분산     0.2063      0.071      2.916      0.004       0.067       0.345\n",
      "==============================================================================\n",
      "Omnibus:                       13.549   Durbin-Watson:                   0.608\n",
      "Prob(Omnibus):                  0.001   Jarque-Bera (JB):               23.976\n",
      "Skew:                          -0.005   Prob(JB):                     6.22e-06\n",
      "Kurtosis:                       3.866   Cond. No.                     4.48e+16\n",
      "==============================================================================\n",
      "\n",
      "Notes:\n",
      "[1] R² is computed without centering (uncentered) since the model does not contain a constant.\n",
      "[2] Standard Errors assume that the covariance matrix of the errors is correctly specified.\n",
      "[3] The smallest eigenvalue is 2.26e-25. This might indicate that there are\n",
      "strong multicollinearity problems or that the design matrix is singular.\n"
     ]
    }
   ],
   "source": [
    "import statsmodels.api as sm\n",
    "\n",
    "model = sm.OLS(y, X)\n",
    "result = model.fit()\n",
    "\n",
    "print(\"회귀계수\\n\",result.params)\n",
    "print(\"R-squared\\n\",result.rsquared)\n",
    "print(\"P values\\n\",result.pvalues)\n",
    "\n",
    "#요약 결과 출력\n",
    "print(result.summary())\n",
    "\n",
    "# 모델의 설명력 98.5%(개선되지는 않음)\n",
    "# p-value : 모든 변수가 유의함"
   ]
  },
  {
   "attachments": {},
   "cell_type": "markdown",
   "metadata": {},
   "source": [
    "냉방 다중 회귀분석"
   ]
  },
  {
   "cell_type": "code",
   "execution_count": 6,
   "metadata": {},
   "outputs": [],
   "source": [
    "train_cols = df.columns[0:8]\n",
    "\n",
    "X = df[train_cols]\n",
    "y = df[\"Y2\"]"
   ]
  },
  {
   "cell_type": "code",
   "execution_count": 7,
   "metadata": {},
   "outputs": [
    {
     "name": "stdout",
     "output_type": "stream",
     "text": [
      "회귀계수\n",
      " 상대적 크기       -19.013495\n",
      "건축 표면적         0.002107\n",
      "벽체 면적          0.017989\n",
      "지붕 면적         -0.007941\n",
      "전체 높이          5.588124\n",
      "건물의 방위         0.129937\n",
      "유리창 면적        14.749602\n",
      "유리창 면적의 분산     0.043625\n",
      "dtype: float64\n",
      "R-squared\n",
      " 0.9849864771252053\n",
      "P values\n",
      " 상대적 크기        8.097264e-21\n",
      "건축 표면적        1.283383e-01\n",
      "벽체 면적         1.593725e-05\n",
      "지붕 면적         3.001620e-03\n",
      "전체 높이         3.534444e-88\n",
      "건물의 방위        2.150330e-01\n",
      "유리창 면적        6.492365e-52\n",
      "유리창 면적의 분산    5.727529e-01\n",
      "dtype: float64\n",
      "                                 OLS Regression Results                                \n",
      "=======================================================================================\n",
      "Dep. Variable:                     Y2   R-squared (uncentered):                   0.985\n",
      "Model:                            OLS   Adj. R-squared (uncentered):              0.985\n",
      "Method:                 Least Squares   F-statistic:                              7132.\n",
      "Date:                Thu, 09 Mar 2023   Prob (F-statistic):                        0.00\n",
      "Time:                        15:49:13   Log-Likelihood:                         -1990.2\n",
      "No. Observations:                 768   AIC:                                      3994.\n",
      "Df Residuals:                     761   BIC:                                      4027.\n",
      "Df Model:                           7                                                  \n",
      "Covariance Type:            nonrobust                                                  \n",
      "==============================================================================\n",
      "                 coef    std err          t      P>|t|      [0.025      0.975]\n",
      "------------------------------------------------------------------------------\n",
      "상대적 크기       -19.0135      1.973     -9.638      0.000     -22.886     -15.141\n",
      "건축 표면적         0.0021      0.001      1.522      0.128      -0.001       0.005\n",
      "벽체 면적          0.0180      0.004      4.343      0.000       0.010       0.026\n",
      "지붕 면적         -0.0079      0.003     -2.977      0.003      -0.013      -0.003\n",
      "전체 높이          5.5881      0.245     22.812      0.000       5.107       6.069\n",
      "건물의 방위         0.1299      0.105      1.241      0.215      -0.076       0.335\n",
      "유리창 면적        14.7496      0.900     16.386      0.000      12.983      16.517\n",
      "유리창 면적의 분산     0.0436      0.077      0.564      0.573      -0.108       0.195\n",
      "==============================================================================\n",
      "Omnibus:                       77.438   Durbin-Watson:                   1.037\n",
      "Prob(Omnibus):                  0.000   Jarque-Bera (JB):              164.254\n",
      "Skew:                           0.596   Prob(JB):                     2.15e-36\n",
      "Kurtosis:                       4.927   Cond. No.                     4.48e+16\n",
      "==============================================================================\n",
      "\n",
      "Notes:\n",
      "[1] R² is computed without centering (uncentered) since the model does not contain a constant.\n",
      "[2] Standard Errors assume that the covariance matrix of the errors is correctly specified.\n",
      "[3] The smallest eigenvalue is 2.26e-25. This might indicate that there are\n",
      "strong multicollinearity problems or that the design matrix is singular.\n"
     ]
    }
   ],
   "source": [
    "import statsmodels.api as sm\n",
    "\n",
    "model = sm.OLS(y, X)\n",
    "result = model.fit()\n",
    "print(\"회귀계수\\n\",result.params)\n",
    "print(\"R-squared\\n\",result.rsquared)\n",
    "print(\"P values\\n\",result.pvalues)\n",
    "\n",
    "#요약 결과 출력\n",
    "print(result.summary())\n",
    "\n",
    "# 모델의 설명력 98.5%\n",
    "# p-value : X2(건축 표면적),X6(건물의 방위),X8(유리창 면적의 분산)은 유의하지 않음\n",
    "# 해석\n",
    "# X1(상대적 크기) : 건물이 크면 냉방비용이 감소된다.\n",
    "# X7(유리창 면적) : 유리창 면적이 크면 냉방비용이 증가한다.\n",
    "# X5(전체 높이) : 건물 높이가 높으면 냉방비용이 증가한다."
   ]
  },
  {
   "cell_type": "code",
   "execution_count": 8,
   "metadata": {},
   "outputs": [],
   "source": [
    "from sklearn.model_selection import train_test_split\n",
    "from sklearn.linear_model import LinearRegression\n",
    "\n",
    "#데이터셋을 나눔(학습용:검증용 = 8:2)\n",
    "#random_state : 난수 발생을 위한 seed의 인자값\n",
    "\n",
    "X_train, X_test, y_train, y_test = train_test_split(\n",
    " X, y, test_size=0.2, random_state=10)\n",
    "model = LinearRegression().fit(X_train, y_train)"
   ]
  },
  {
   "cell_type": "code",
   "execution_count": 9,
   "metadata": {},
   "outputs": [
    {
     "name": "stdout",
     "output_type": "stream",
     "text": [
      "학습용: 0.882472464160759\n",
      "검증용: 0.9079786235531351\n"
     ]
    }
   ],
   "source": [
    "print(\"학습용:\",model.score(X_train, y_train))\n",
    "print(\"검증용:\",model.score(X_test, y_test))"
   ]
  }
 ],
 "metadata": {
  "kernelspec": {
   "display_name": "base",
   "language": "python",
   "name": "python3"
  },
  "language_info": {
   "codemirror_mode": {
    "name": "ipython",
    "version": 3
   },
   "file_extension": ".py",
   "mimetype": "text/x-python",
   "name": "python",
   "nbconvert_exporter": "python",
   "pygments_lexer": "ipython3",
   "version": "3.9.13"
  },
  "orig_nbformat": 4
 },
 "nbformat": 4,
 "nbformat_minor": 2
}
