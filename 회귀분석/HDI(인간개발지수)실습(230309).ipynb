{
 "cells": [
  {
   "cell_type": "code",
   "execution_count": 1,
   "metadata": {},
   "outputs": [],
   "source": [
    "import pandas as pd\n",
    "import matplotlib.pyplot as plt\n",
    "import seaborn as sns\n",
    "from scipy import stats"
   ]
  },
  {
   "cell_type": "code",
   "execution_count": 3,
   "metadata": {},
   "outputs": [
    {
     "data": {
      "text/html": [
       "<div>\n",
       "<style scoped>\n",
       "    .dataframe tbody tr th:only-of-type {\n",
       "        vertical-align: middle;\n",
       "    }\n",
       "\n",
       "    .dataframe tbody tr th {\n",
       "        vertical-align: top;\n",
       "    }\n",
       "\n",
       "    .dataframe thead th {\n",
       "        text-align: right;\n",
       "    }\n",
       "</style>\n",
       "<table border=\"1\" class=\"dataframe\">\n",
       "  <thead>\n",
       "    <tr style=\"text-align: right;\">\n",
       "      <th></th>\n",
       "      <th>Life expectancy at birth</th>\n",
       "      <th>Mean years of schooling</th>\n",
       "      <th>Expected years of schooling</th>\n",
       "      <th>GNI</th>\n",
       "      <th>Export</th>\n",
       "      <th>HDI</th>\n",
       "    </tr>\n",
       "  </thead>\n",
       "  <tbody>\n",
       "    <tr>\n",
       "      <th>0</th>\n",
       "      <td>48.4</td>\n",
       "      <td>3.5</td>\n",
       "      <td>8.2</td>\n",
       "      <td>280</td>\n",
       "      <td>85.119671</td>\n",
       "      <td>0.286</td>\n",
       "    </tr>\n",
       "    <tr>\n",
       "      <th>1</th>\n",
       "      <td>54.7</td>\n",
       "      <td>1.4</td>\n",
       "      <td>4.9</td>\n",
       "      <td>641</td>\n",
       "      <td>42.473864</td>\n",
       "      <td>0.295</td>\n",
       "    </tr>\n",
       "    <tr>\n",
       "      <th>2</th>\n",
       "      <td>50.4</td>\n",
       "      <td>2.7</td>\n",
       "      <td>10.5</td>\n",
       "      <td>368</td>\n",
       "      <td>42.473864</td>\n",
       "      <td>0.316</td>\n",
       "    </tr>\n",
       "    <tr>\n",
       "      <th>3</th>\n",
       "      <td>50.2</td>\n",
       "      <td>1.2</td>\n",
       "      <td>9.2</td>\n",
       "      <td>898</td>\n",
       "      <td>25.251291</td>\n",
       "      <td>0.322</td>\n",
       "    </tr>\n",
       "    <tr>\n",
       "      <th>4</th>\n",
       "      <td>49.6</td>\n",
       "      <td>1.5</td>\n",
       "      <td>7.2</td>\n",
       "      <td>1105</td>\n",
       "      <td>43.900000</td>\n",
       "      <td>0.328</td>\n",
       "    </tr>\n",
       "  </tbody>\n",
       "</table>\n",
       "</div>"
      ],
      "text/plain": [
       "   Life expectancy at birth  Mean years of schooling  \\\n",
       "0                      48.4                      3.5   \n",
       "1                      54.7                      1.4   \n",
       "2                      50.4                      2.7   \n",
       "3                      50.2                      1.2   \n",
       "4                      49.6                      1.5   \n",
       "\n",
       "   Expected years of schooling   GNI     Export    HDI  \n",
       "0                          8.2   280  85.119671  0.286  \n",
       "1                          4.9   641  42.473864  0.295  \n",
       "2                         10.5   368  42.473864  0.316  \n",
       "3                          9.2   898  25.251291  0.322  \n",
       "4                          7.2  1105  43.900000  0.328  "
      ]
     },
     "execution_count": 3,
     "metadata": {},
     "output_type": "execute_result"
    }
   ],
   "source": [
    "# 전처리 과정을 거친 데이터 로딩\n",
    "df = pd.read_csv('d:/workspace/Python2/data/hdi/hdi-data2.csv')\n",
    "df.head()"
   ]
  },
  {
   "cell_type": "code",
   "execution_count": 4,
   "metadata": {},
   "outputs": [],
   "source": [
    "train_cols = df.columns[0:5]\n",
    "\n",
    "X = df[train_cols]\n",
    "y = df[\"HDI\"]"
   ]
  },
  {
   "cell_type": "code",
   "execution_count": 5,
   "metadata": {},
   "outputs": [
    {
     "name": "stdout",
     "output_type": "stream",
     "text": [
      "회귀계수 :  Life expectancy at birth       0.004653\n",
      "Mean years of schooling        0.022120\n",
      "Expected years of schooling    0.011457\n",
      "GNI                            0.000003\n",
      "Export                        -0.000128\n",
      "dtype: float64\n",
      "R-squared :  0.9983302267104234\n",
      "P-value :  Life expectancy at birth       4.656765e-43\n",
      "Mean years of schooling        2.521389e-31\n",
      "Expected years of schooling    2.263664e-10\n",
      "GNI                            1.533275e-28\n",
      "Export                         1.509747e-01\n",
      "dtype: float64\n"
     ]
    }
   ],
   "source": [
    "from sklearn.model_selection import train_test_split\n",
    "X_train, X_test, y_train, y_test = train_test_split(X, y, test_size=0.2, random_state=10)\n",
    "\n",
    "import statsmodels.api as sm\n",
    "model = sm.OLS(y_train, X_train)\n",
    "result = model.fit()\n",
    "\n",
    "print(\"회귀계수 : \", result.params)\n",
    "print(\"R-squared : \", result.rsquared)\n",
    "print(\"P-value : \", result.pvalues)"
   ]
  },
  {
   "cell_type": "code",
   "execution_count": 6,
   "metadata": {},
   "outputs": [
    {
     "name": "stdout",
     "output_type": "stream",
     "text": [
      "                                 OLS Regression Results                                \n",
      "=======================================================================================\n",
      "Dep. Variable:                    HDI   R-squared (uncentered):                   0.998\n",
      "Model:                            OLS   Adj. R-squared (uncentered):              0.998\n",
      "Method:                 Least Squares   F-statistic:                          1.722e+04\n",
      "Date:                Thu, 09 Mar 2023   Prob (F-statistic):                   5.06e-198\n",
      "Time:                        15:31:52   Log-Likelihood:                          320.29\n",
      "No. Observations:                 149   AIC:                                     -630.6\n",
      "Df Residuals:                     144   BIC:                                     -615.6\n",
      "Df Model:                           5                                                  \n",
      "Covariance Type:            nonrobust                                                  \n",
      "===============================================================================================\n",
      "                                  coef    std err          t      P>|t|      [0.025      0.975]\n",
      "-----------------------------------------------------------------------------------------------\n",
      "Life expectancy at birth        0.0047      0.000     19.852      0.000       0.004       0.005\n",
      "Mean years of schooling         0.0221      0.001     15.040      0.000       0.019       0.025\n",
      "Expected years of schooling     0.0115      0.002      6.825      0.000       0.008       0.015\n",
      "GNI                          2.847e-06   2.04e-07     13.957      0.000    2.44e-06    3.25e-06\n",
      "Export                         -0.0001   8.86e-05     -1.444      0.151      -0.000    4.72e-05\n",
      "==============================================================================\n",
      "Omnibus:                       43.417   Durbin-Watson:                   2.086\n",
      "Prob(Omnibus):                  0.000   Jarque-Bera (JB):               97.013\n",
      "Skew:                          -1.241   Prob(JB):                     8.59e-22\n",
      "Kurtosis:                       6.076   Cond. No.                     1.70e+04\n",
      "==============================================================================\n",
      "\n",
      "Notes:\n",
      "[1] R² is computed without centering (uncentered) since the model does not contain a constant.\n",
      "[2] Standard Errors assume that the covariance matrix of the errors is correctly specified.\n",
      "[3] The condition number is large, 1.7e+04. This might indicate that there are\n",
      "strong multicollinearity or other numerical problems.\n"
     ]
    },
    {
     "data": {
      "text/plain": [
       "0.9258621508415219"
      ]
     },
     "execution_count": 6,
     "metadata": {},
     "output_type": "execute_result"
    }
   ],
   "source": [
    "#요약 결과 출력\n",
    "print(result.summary())\n",
    "\n",
    "# 모델의 설명력\n",
    "# p-value를 확인해 볼 때 모든 변수가 유의한 것으로 나타남\n",
    "\n",
    "from sklearn.metrics import r2_score\n",
    "pred=result.predict(X_test)\n",
    "rsquared=r2_score(y_test, pred)\n",
    "rsquared"
   ]
  },
  {
   "cell_type": "code",
   "execution_count": 7,
   "metadata": {},
   "outputs": [],
   "source": [
    "from sklearn.linear_model import LinearRegression\n",
    "model = LinearRegression().fit(X_train, y_train)"
   ]
  },
  {
   "cell_type": "code",
   "execution_count": 8,
   "metadata": {},
   "outputs": [
    {
     "name": "stdout",
     "output_type": "stream",
     "text": [
      "학습용 :  0.9795845422991336\n",
      "검증용 :  0.9432099785667011\n"
     ]
    }
   ],
   "source": [
    "print(\"학습용 : \", model.score(X_train, y_train))\n",
    "print(\"검증용 : \", model.score(X_test, y_test))"
   ]
  }
 ],
 "metadata": {
  "kernelspec": {
   "display_name": "base",
   "language": "python",
   "name": "python3"
  },
  "language_info": {
   "codemirror_mode": {
    "name": "ipython",
    "version": 3
   },
   "file_extension": ".py",
   "mimetype": "text/x-python",
   "name": "python",
   "nbconvert_exporter": "python",
   "pygments_lexer": "ipython3",
   "version": "3.9.13"
  },
  "orig_nbformat": 4
 },
 "nbformat": 4,
 "nbformat_minor": 2
}
