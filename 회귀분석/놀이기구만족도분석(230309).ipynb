{
 "cells": [
  {
   "cell_type": "code",
   "execution_count": 27,
   "metadata": {},
   "outputs": [
    {
     "name": "stdout",
     "output_type": "stream",
     "text": [
      "  weekend  num.child    distance  rides  games  wait  clean  overall\n",
      "0     yes          0  114.648259     87     73    60     89       47\n",
      "1     yes          2   27.014097     87     78    76     87       65\n",
      "2      no          1   63.300975     85     80    70     88       61\n",
      "3     yes          0   25.909931     88     72    66     89       37\n",
      "4      no          4   54.718307     84     87    74     87       68\n"
     ]
    }
   ],
   "source": [
    "#귀무가설 : 놀이기구에 대한 만족도는 전체만족도에 영향을 미치지 않는다.\n",
    "#대립가설 : 놀이기구에 대한 만족도는 전체만족도에 영향을 미친다.\n",
    "\n",
    "# csv 파일을 로딩\n",
    "import pandas as pd\n",
    "df = pd.read_csv(\"d:/workspace/Python2/data/rides/rides.csv\")\n",
    "print(df.head())"
   ]
  },
  {
   "cell_type": "code",
   "execution_count": 28,
   "metadata": {},
   "outputs": [
    {
     "data": {
      "text/html": [
       "<div>\n",
       "<style scoped>\n",
       "    .dataframe tbody tr th:only-of-type {\n",
       "        vertical-align: middle;\n",
       "    }\n",
       "\n",
       "    .dataframe tbody tr th {\n",
       "        vertical-align: top;\n",
       "    }\n",
       "\n",
       "    .dataframe thead th {\n",
       "        text-align: right;\n",
       "    }\n",
       "</style>\n",
       "<table border=\"1\" class=\"dataframe\">\n",
       "  <thead>\n",
       "    <tr style=\"text-align: right;\">\n",
       "      <th></th>\n",
       "      <th>자녀수</th>\n",
       "      <th>거리</th>\n",
       "      <th>기구점수</th>\n",
       "      <th>게임만족도</th>\n",
       "      <th>대기시간</th>\n",
       "      <th>청결도</th>\n",
       "      <th>overall</th>\n",
       "      <th>weekend_no</th>\n",
       "      <th>weekend_yes</th>\n",
       "    </tr>\n",
       "  </thead>\n",
       "  <tbody>\n",
       "    <tr>\n",
       "      <th>0</th>\n",
       "      <td>0</td>\n",
       "      <td>114.648259</td>\n",
       "      <td>87</td>\n",
       "      <td>73</td>\n",
       "      <td>60</td>\n",
       "      <td>89</td>\n",
       "      <td>47</td>\n",
       "      <td>0</td>\n",
       "      <td>1</td>\n",
       "    </tr>\n",
       "    <tr>\n",
       "      <th>1</th>\n",
       "      <td>2</td>\n",
       "      <td>27.014097</td>\n",
       "      <td>87</td>\n",
       "      <td>78</td>\n",
       "      <td>76</td>\n",
       "      <td>87</td>\n",
       "      <td>65</td>\n",
       "      <td>0</td>\n",
       "      <td>1</td>\n",
       "    </tr>\n",
       "    <tr>\n",
       "      <th>2</th>\n",
       "      <td>1</td>\n",
       "      <td>63.300975</td>\n",
       "      <td>85</td>\n",
       "      <td>80</td>\n",
       "      <td>70</td>\n",
       "      <td>88</td>\n",
       "      <td>61</td>\n",
       "      <td>1</td>\n",
       "      <td>0</td>\n",
       "    </tr>\n",
       "    <tr>\n",
       "      <th>3</th>\n",
       "      <td>0</td>\n",
       "      <td>25.909931</td>\n",
       "      <td>88</td>\n",
       "      <td>72</td>\n",
       "      <td>66</td>\n",
       "      <td>89</td>\n",
       "      <td>37</td>\n",
       "      <td>0</td>\n",
       "      <td>1</td>\n",
       "    </tr>\n",
       "    <tr>\n",
       "      <th>4</th>\n",
       "      <td>4</td>\n",
       "      <td>54.718307</td>\n",
       "      <td>84</td>\n",
       "      <td>87</td>\n",
       "      <td>74</td>\n",
       "      <td>87</td>\n",
       "      <td>68</td>\n",
       "      <td>1</td>\n",
       "      <td>0</td>\n",
       "    </tr>\n",
       "  </tbody>\n",
       "</table>\n",
       "</div>"
      ],
      "text/plain": [
       "   자녀수          거리  기구점수  게임만족도  대기시간  청결도  overall  weekend_no  weekend_yes\n",
       "0    0  114.648259    87     73    60   89       47           0            1\n",
       "1    2   27.014097    87     78    76   87       65           0            1\n",
       "2    1   63.300975    85     80    70   88       61           1            0\n",
       "3    0   25.909931    88     72    66   89       37           0            1\n",
       "4    4   54.718307    84     87    74   87       68           1            0"
      ]
     },
     "execution_count": 28,
     "metadata": {},
     "output_type": "execute_result"
    }
   ],
   "source": [
    "# 범주형 변수 처리(주말여부) = One hot encoding\n",
    "df2 = pd.get_dummies(df[\"weekend\"], prefix='weekend')\n",
    "df = pd.concat([df,df2], axis=1)\n",
    "del df['weekend']\n",
    "df = df.rename(columns={'num.child' : \"자녀수\", 'distance' : '거리', \n",
    "                        'rides' : '기구점수', 'games' : '게임만족도', \n",
    "                        'wait' : '대기시간', 'clean' : '청결도'})\n",
    "df.head()"
   ]
  },
  {
   "cell_type": "code",
   "execution_count": 30,
   "metadata": {},
   "outputs": [],
   "source": [
    "#다중회귀분석\n",
    "\n",
    "#독립변수\n",
    "X=df[[\"자녀수\", '거리', '기구점수', '게임만족도', '대기시간', '청결도', 'weekend_no', 'weekend_yes']]\n",
    "\n",
    "#종속변수\n",
    "y=df['overall']"
   ]
  },
  {
   "cell_type": "code",
   "execution_count": 6,
   "metadata": {},
   "outputs": [
    {
     "data": {
      "text/html": [
       "<table class=\"simpletable\">\n",
       "<caption>OLS Regression Results</caption>\n",
       "<tr>\n",
       "  <th>Dep. Variable:</th>         <td>overall</td>     <th>  R-squared:         </th> <td>   0.683</td> \n",
       "</tr>\n",
       "<tr>\n",
       "  <th>Model:</th>                   <td>OLS</td>       <th>  Adj. R-squared:    </th> <td>   0.679</td> \n",
       "</tr>\n",
       "<tr>\n",
       "  <th>Method:</th>             <td>Least Squares</td>  <th>  F-statistic:       </th> <td>   151.6</td> \n",
       "</tr>\n",
       "<tr>\n",
       "  <th>Date:</th>             <td>Thu, 09 Mar 2023</td> <th>  Prob (F-statistic):</th> <td>1.73e-118</td>\n",
       "</tr>\n",
       "<tr>\n",
       "  <th>Time:</th>                 <td>15:58:22</td>     <th>  Log-Likelihood:    </th> <td> -1804.1</td> \n",
       "</tr>\n",
       "<tr>\n",
       "  <th>No. Observations:</th>      <td>   500</td>      <th>  AIC:               </th> <td>   3624.</td> \n",
       "</tr>\n",
       "<tr>\n",
       "  <th>Df Residuals:</th>          <td>   492</td>      <th>  BIC:               </th> <td>   3658.</td> \n",
       "</tr>\n",
       "<tr>\n",
       "  <th>Df Model:</th>              <td>     7</td>      <th>                     </th>     <td> </td>    \n",
       "</tr>\n",
       "<tr>\n",
       "  <th>Covariance Type:</th>      <td>nonrobust</td>    <th>                     </th>     <td> </td>    \n",
       "</tr>\n",
       "</table>\n",
       "<table class=\"simpletable\">\n",
       "<tr>\n",
       "       <td></td>          <th>coef</th>     <th>std err</th>      <th>t</th>      <th>P>|t|</th>  <th>[0.025</th>    <th>0.975]</th>  \n",
       "</tr>\n",
       "<tr>\n",
       "  <th>num.child</th>   <td>    3.6160</td> <td>    0.270</td> <td>   13.403</td> <td> 0.000</td> <td>    3.086</td> <td>    4.146</td>\n",
       "</tr>\n",
       "<tr>\n",
       "  <th>distance</th>    <td>    0.0449</td> <td>    0.012</td> <td>    3.686</td> <td> 0.000</td> <td>    0.021</td> <td>    0.069</td>\n",
       "</tr>\n",
       "<tr>\n",
       "  <th>rides</th>       <td>    0.6136</td> <td>    0.121</td> <td>    5.072</td> <td> 0.000</td> <td>    0.376</td> <td>    0.851</td>\n",
       "</tr>\n",
       "<tr>\n",
       "  <th>games</th>       <td>    0.1383</td> <td>    0.059</td> <td>    2.356</td> <td> 0.019</td> <td>    0.023</td> <td>    0.254</td>\n",
       "</tr>\n",
       "<tr>\n",
       "  <th>wait</th>        <td>    0.5648</td> <td>    0.041</td> <td>   13.896</td> <td> 0.000</td> <td>    0.485</td> <td>    0.645</td>\n",
       "</tr>\n",
       "<tr>\n",
       "  <th>clean</th>       <td>    0.9272</td> <td>    0.136</td> <td>    6.821</td> <td> 0.000</td> <td>    0.660</td> <td>    1.194</td>\n",
       "</tr>\n",
       "<tr>\n",
       "  <th>weekend_no</th>  <td> -140.6125</td> <td>    7.154</td> <td>  -19.655</td> <td> 0.000</td> <td> -154.669</td> <td> -126.556</td>\n",
       "</tr>\n",
       "<tr>\n",
       "  <th>weekend_yes</th> <td> -141.3283</td> <td>    7.121</td> <td>  -19.847</td> <td> 0.000</td> <td> -155.319</td> <td> -127.337</td>\n",
       "</tr>\n",
       "</table>\n",
       "<table class=\"simpletable\">\n",
       "<tr>\n",
       "  <th>Omnibus:</th>       <td> 2.188</td> <th>  Durbin-Watson:     </th> <td>   2.007</td>\n",
       "</tr>\n",
       "<tr>\n",
       "  <th>Prob(Omnibus):</th> <td> 0.335</td> <th>  Jarque-Bera (JB):  </th> <td>   1.943</td>\n",
       "</tr>\n",
       "<tr>\n",
       "  <th>Skew:</th>          <td>-0.050</td> <th>  Prob(JB):          </th> <td>   0.379</td>\n",
       "</tr>\n",
       "<tr>\n",
       "  <th>Kurtosis:</th>      <td> 2.712</td> <th>  Cond. No.          </th> <td>4.14e+03</td>\n",
       "</tr>\n",
       "</table><br/><br/>Notes:<br/>[1] Standard Errors assume that the covariance matrix of the errors is correctly specified.<br/>[2] The condition number is large, 4.14e+03. This might indicate that there are<br/>strong multicollinearity or other numerical problems."
      ],
      "text/plain": [
       "<class 'statsmodels.iolib.summary.Summary'>\n",
       "\"\"\"\n",
       "                            OLS Regression Results                            \n",
       "==============================================================================\n",
       "Dep. Variable:                overall   R-squared:                       0.683\n",
       "Model:                            OLS   Adj. R-squared:                  0.679\n",
       "Method:                 Least Squares   F-statistic:                     151.6\n",
       "Date:                Thu, 09 Mar 2023   Prob (F-statistic):          1.73e-118\n",
       "Time:                        15:58:22   Log-Likelihood:                -1804.1\n",
       "No. Observations:                 500   AIC:                             3624.\n",
       "Df Residuals:                     492   BIC:                             3658.\n",
       "Df Model:                           7                                         \n",
       "Covariance Type:            nonrobust                                         \n",
       "===============================================================================\n",
       "                  coef    std err          t      P>|t|      [0.025      0.975]\n",
       "-------------------------------------------------------------------------------\n",
       "num.child       3.6160      0.270     13.403      0.000       3.086       4.146\n",
       "distance        0.0449      0.012      3.686      0.000       0.021       0.069\n",
       "rides           0.6136      0.121      5.072      0.000       0.376       0.851\n",
       "games           0.1383      0.059      2.356      0.019       0.023       0.254\n",
       "wait            0.5648      0.041     13.896      0.000       0.485       0.645\n",
       "clean           0.9272      0.136      6.821      0.000       0.660       1.194\n",
       "weekend_no   -140.6125      7.154    -19.655      0.000    -154.669    -126.556\n",
       "weekend_yes  -141.3283      7.121    -19.847      0.000    -155.319    -127.337\n",
       "==============================================================================\n",
       "Omnibus:                        2.188   Durbin-Watson:                   2.007\n",
       "Prob(Omnibus):                  0.335   Jarque-Bera (JB):                1.943\n",
       "Skew:                          -0.050   Prob(JB):                        0.379\n",
       "Kurtosis:                       2.712   Cond. No.                     4.14e+03\n",
       "==============================================================================\n",
       "\n",
       "Notes:\n",
       "[1] Standard Errors assume that the covariance matrix of the errors is correctly specified.\n",
       "[2] The condition number is large, 4.14e+03. This might indicate that there are\n",
       "strong multicollinearity or other numerical problems.\n",
       "\"\"\""
      ]
     },
     "execution_count": 6,
     "metadata": {},
     "output_type": "execute_result"
    }
   ],
   "source": [
    "import statsmodels.api as sm\n",
    "\n",
    "model = sm.OLS(y, X)\n",
    "result = model.fit()\n",
    "\n",
    "result.summary()"
   ]
  },
  {
   "cell_type": "code",
   "execution_count": 31,
   "metadata": {},
   "outputs": [
    {
     "data": {
      "text/plain": [
       "array([54.20768166])"
      ]
     },
     "execution_count": 31,
     "metadata": {},
     "output_type": "execute_result"
    }
   ],
   "source": [
    "#자녀수, 거리, 놀이기구점수, 게임점수, 대기시간점수, 청결도, 평일여부, 주말여부\n",
    "result.predict([2, 20, 80, 70, 80, 90, 0, 1])"
   ]
  },
  {
   "cell_type": "code",
   "execution_count": 32,
   "metadata": {},
   "outputs": [
    {
     "data": {
      "text/plain": [
       "array([58.09006564])"
      ]
     },
     "execution_count": 32,
     "metadata": {},
     "output_type": "execute_result"
    }
   ],
   "source": [
    "result.predict([3, 10, 80, 70, 80, 90, 1, 0])"
   ]
  },
  {
   "cell_type": "code",
   "execution_count": 33,
   "metadata": {},
   "outputs": [],
   "source": [
    "from sklearn.model_selection import train_test_split\n",
    "from sklearn.linear_model import LinearRegression\n",
    "\n",
    "# 데이터셋을 나눔\n",
    "X_train, X_test, y_train, y_test = train_test_split(X, y, test_size=0.2, random_state=10)\n",
    "model = LinearRegression().fit(X_train, y_train)"
   ]
  },
  {
   "cell_type": "code",
   "execution_count": 34,
   "metadata": {},
   "outputs": [
    {
     "name": "stdout",
     "output_type": "stream",
     "text": [
      "학습용: 0.6670609590984946\n",
      "검증용: 0.7212343349658576\n"
     ]
    }
   ],
   "source": [
    "print(\"학습용:\", model.score(X_train, y_train))\n",
    "print(\"검증용:\", model.score(X_test, y_test))"
   ]
  },
  {
   "cell_type": "code",
   "execution_count": 35,
   "metadata": {},
   "outputs": [
    {
     "name": "stderr",
     "output_type": "stream",
     "text": [
      "c:\\Anaconda3\\lib\\site-packages\\sklearn\\base.py:450: UserWarning: X does not have valid feature names, but LinearRegression was fitted with feature names\n",
      "  warnings.warn(\n"
     ]
    },
    {
     "data": {
      "text/plain": [
       "array([53.30062057])"
      ]
     },
     "execution_count": 35,
     "metadata": {},
     "output_type": "execute_result"
    }
   ],
   "source": [
    "#자녀수, 거리, 놀이기구점수, 게임점수, 대기시간점수, 청결도, 평일여부, 주말여부\n",
    "model.predict([[2, 20, 80, 70, 80, 90, 0, 1]])"
   ]
  },
  {
   "cell_type": "code",
   "execution_count": 36,
   "metadata": {},
   "outputs": [
    {
     "name": "stderr",
     "output_type": "stream",
     "text": [
      "c:\\Anaconda3\\lib\\site-packages\\sklearn\\base.py:450: UserWarning: X does not have valid feature names, but LinearRegression was fitted with feature names\n",
      "  warnings.warn(\n"
     ]
    },
    {
     "data": {
      "text/plain": [
       "array([57.97589809])"
      ]
     },
     "execution_count": 36,
     "metadata": {},
     "output_type": "execute_result"
    }
   ],
   "source": [
    "model.predict([[3, 10, 80, 70, 80, 90, 1, 0]])"
   ]
  },
  {
   "cell_type": "code",
   "execution_count": 37,
   "metadata": {},
   "outputs": [
    {
     "data": {
      "text/plain": [
       "['d:/workspace/Python2/models/rides_regress.model']"
      ]
     },
     "execution_count": 37,
     "metadata": {},
     "output_type": "execute_result"
    }
   ],
   "source": [
    "import joblib\n",
    "joblib.dump(model, 'd:/workspace/Python2/models/rides_regress.model')"
   ]
  },
  {
   "attachments": {},
   "cell_type": "markdown",
   "metadata": {},
   "source": [
    "예측 모형 불러오기"
   ]
  },
  {
   "cell_type": "code",
   "execution_count": 1,
   "metadata": {},
   "outputs": [],
   "source": [
    "import joblib\n",
    "model = joblib.load('d:/workspace/Python2/models/rides_regress.model')"
   ]
  },
  {
   "cell_type": "code",
   "execution_count": 2,
   "metadata": {},
   "outputs": [
    {
     "name": "stderr",
     "output_type": "stream",
     "text": [
      "c:\\Anaconda3\\lib\\site-packages\\sklearn\\base.py:450: UserWarning: X does not have valid feature names, but LinearRegression was fitted with feature names\n",
      "  warnings.warn(\n"
     ]
    },
    {
     "data": {
      "text/plain": [
       "array([53.30062057])"
      ]
     },
     "execution_count": 2,
     "metadata": {},
     "output_type": "execute_result"
    }
   ],
   "source": [
    "#자녀수, 거리, 놀이기구점수, 게임점수, 대기시간점수, 청결도, 평일여부, 주말여부\n",
    "model.predict([[2, 20, 80, 70, 80, 90, 0, 1]])"
   ]
  },
  {
   "cell_type": "code",
   "execution_count": 3,
   "metadata": {},
   "outputs": [
    {
     "name": "stderr",
     "output_type": "stream",
     "text": [
      "c:\\Anaconda3\\lib\\site-packages\\sklearn\\base.py:450: UserWarning: X does not have valid feature names, but LinearRegression was fitted with feature names\n",
      "  warnings.warn(\n"
     ]
    },
    {
     "data": {
      "text/plain": [
       "array([57.97589809])"
      ]
     },
     "execution_count": 3,
     "metadata": {},
     "output_type": "execute_result"
    }
   ],
   "source": [
    "model.predict([[3, 10, 80, 70, 80, 90, 1, 0]])"
   ]
  }
 ],
 "metadata": {
  "kernelspec": {
   "display_name": "base",
   "language": "python",
   "name": "python3"
  },
  "language_info": {
   "codemirror_mode": {
    "name": "ipython",
    "version": 3
   },
   "file_extension": ".py",
   "mimetype": "text/x-python",
   "name": "python",
   "nbconvert_exporter": "python",
   "pygments_lexer": "ipython3",
   "version": "3.9.13"
  },
  "orig_nbformat": 4
 },
 "nbformat": 4,
 "nbformat_minor": 2
}
