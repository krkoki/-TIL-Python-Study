{
 "cells": [
  {
   "cell_type": "code",
   "execution_count": 3,
   "metadata": {},
   "outputs": [
    {
     "name": "stdout",
     "output_type": "stream",
     "text": [
      "5050\n"
     ]
    }
   ],
   "source": [
    "result = 0\n",
    "for i in range(1, 101): # (start, stop, step)\n",
    "    result = result + i\n",
    "print(result)"
   ]
  },
  {
   "cell_type": "code",
   "execution_count": 8,
   "metadata": {},
   "outputs": [
    {
     "name": "stdout",
     "output_type": "stream",
     "text": [
      "5050\n"
     ]
    }
   ],
   "source": [
    "def mysum(n): # def 함수이름(매개변수)\n",
    "    result = 0\n",
    "    for i in range(1, n+1):\n",
    "        result = result + i\n",
    "    print(result)\n",
    "mysum(100)"
   ]
  },
  {
   "cell_type": "code",
   "execution_count": 10,
   "metadata": {},
   "outputs": [
    {
     "data": {
      "text/plain": [
       "5050"
      ]
     },
     "execution_count": 10,
     "metadata": {},
     "output_type": "execute_result"
    }
   ],
   "source": [
    "class My:\n",
    "    def mysum(self, n):\n",
    "        result = 0\n",
    "        for i in range(1, n+1):\n",
    "            result = result + i\n",
    "        return result\n",
    "m = My() # 인스턴스를 생성\n",
    "m.mysum(100) # 함수 호출"
   ]
  },
  {
   "cell_type": "code",
   "execution_count": 14,
   "metadata": {},
   "outputs": [
    {
     "name": "stdout",
     "output_type": "stream",
     "text": [
      "12\n",
      "[ 6  7  8  9 10]\n"
     ]
    }
   ],
   "source": [
    "import numpy as np # as = alias 줄임말\n",
    "def plus(x):\n",
    "    return x + 5\n",
    "print(plus(7))\n",
    "print(plus(np.array([1,2,3,4,5])))"
   ]
  },
  {
   "cell_type": "code",
   "execution_count": 15,
   "metadata": {},
   "outputs": [
    {
     "name": "stdout",
     "output_type": "stream",
     "text": [
      "3\n"
     ]
    }
   ],
   "source": [
    "a = lambda x, y : x + y\n",
    "print(a(1,2))"
   ]
  },
  {
   "cell_type": "code",
   "execution_count": 22,
   "metadata": {},
   "outputs": [
    {
     "data": {
      "text/plain": [
       "[2, 4, 6, 8, 10]"
      ]
     },
     "execution_count": 22,
     "metadata": {},
     "output_type": "execute_result"
    }
   ],
   "source": [
    "even = lambda x : x % 2 == 0\n",
    "# a = 0 대입\n",
    "# a == 0 '같다'\n",
    "even(np.array(range(1,11)))\n",
    "# array([False,  True, False,  True, False,  True, False,  True, False, True])\n",
    "\n",
    "# 필터함수 사용\n",
    "list(filter(even, range(1,11)))"
   ]
  },
  {
   "cell_type": "code",
   "execution_count": 25,
   "metadata": {},
   "outputs": [
    {
     "name": "stdout",
     "output_type": "stream",
     "text": [
      "요금:44,800원\n"
     ]
    }
   ],
   "source": [
    "import math\n",
    "km = int(input('운행 거리를 입력하세요(km) :'))\n",
    "fee = 4800 + math.ceil((km-2)*1000/140*200)\n",
    "print(f'요금:{fee:,}원')"
   ]
  },
  {
   "cell_type": "code",
   "execution_count": 36,
   "metadata": {},
   "outputs": [
    {
     "name": "stdout",
     "output_type": "stream",
     "text": [
      "79 F\n",
      "49 C\n"
     ]
    }
   ],
   "source": [
    "# 화씨 온도 = (섭씨 온도 * 1.8) + 32\n",
    "def CtoF(c):\n",
    "    return f'{round((c * 1.8) + 32)} F'\n",
    "\n",
    "# 섭씨 온도 = (화씨 온도 -32) / 1.8\n",
    "def FtoC(f):\n",
    "    return f'{round((f - 32) / 1.8)} C'\n",
    "\n",
    "print(CtoF(26))\n",
    "print(FtoC(120))"
   ]
  },
  {
   "cell_type": "code",
   "execution_count": 40,
   "metadata": {},
   "outputs": [
    {
     "data": {
      "text/plain": [
       "[(1, 'a', '딸기'), (2, 'b', '바나나'), (3, 'c', '복숭아')]"
      ]
     },
     "execution_count": 40,
     "metadata": {},
     "output_type": "execute_result"
    }
   ],
   "source": [
    "# zip 함수 사용\n",
    "a = [1, 2, 3]\n",
    "b = ['a', 'b', 'c']\n",
    "c = ['딸기', '바나나', '복숭아']\n",
    "d = list(zip(a, b, c))\n",
    "d"
   ]
  },
  {
   "cell_type": "code",
   "execution_count": 44,
   "metadata": {},
   "outputs": [
    {
     "data": {
      "text/plain": [
       "[(1, 'a'), (2, 'b'), (3, 'c')]"
      ]
     },
     "execution_count": 44,
     "metadata": {},
     "output_type": "execute_result"
    }
   ],
   "source": [
    "# zip 함수를 사용하지 않고 묶을때\n",
    "def my_zip(a, b):\n",
    "    if len(a) != len(b):\n",
    "        print('두 입력값 길이가 다릅니다.')\n",
    "    else:\n",
    "        n = len(a)\n",
    "        c = [] # 비어있는 리스트\n",
    "        for i in range(n):\n",
    "            c.append((a[i], b[i]))\n",
    "        return(c)\n",
    "a = [1, 2, 3]\n",
    "b = ['a', 'b', 'c']\n",
    "my_zip(a, b)"
   ]
  }
 ],
 "metadata": {
  "kernelspec": {
   "display_name": "Python 3",
   "language": "python",
   "name": "python3"
  },
  "language_info": {
   "codemirror_mode": {
    "name": "ipython",
    "version": 3
   },
   "file_extension": ".py",
   "mimetype": "text/x-python",
   "name": "python",
   "nbconvert_exporter": "python",
   "pygments_lexer": "ipython3",
   "version": "3.8.7"
  },
  "orig_nbformat": 4
 },
 "nbformat": 4,
 "nbformat_minor": 2
}
