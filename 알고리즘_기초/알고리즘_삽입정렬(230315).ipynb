{
 "cells": [
  {
   "cell_type": "code",
   "execution_count": 1,
   "metadata": {},
   "outputs": [
    {
     "name": "stdout",
     "output_type": "stream",
     "text": [
      "0 2\n",
      "1 4\n",
      "2 5\n",
      "0 1\n",
      "2 3\n",
      "[1, 2, 3, 4, 5]\n"
     ]
    }
   ],
   "source": [
    "# 쉽게 설명한 삽입 정렬\n",
    "# 입력 : 리스트 a\n",
    "# 출력 : 정렬된 새 리스트\n",
    "\n",
    "# 리스트 r에서 v가 들어가야 할  위치를 돌려주는 함수\n",
    "def find_ins_idx(r, v):\n",
    "    # 이미 정렬된 리스트 r의 자료를 앞에서부터 차례로 확인하여\n",
    "    for i in range(0 ,len(r)):\n",
    "        # v 값보다 i번 위치에 있는 자료 값이 크면\n",
    "        # v 가 그 값 바로 앞에 놓여야 정렬 순서가 유지됨\n",
    "        if v < r[i]:\n",
    "            return i\n",
    "    # 적절한 위치를 못 찾았을때는\n",
    "    # v가 r의 모든 자료보다 크다는 뜻이므로 맨뒤에 삽입\n",
    "    return len(r)\n",
    "\n",
    "def ins_sort(a):\n",
    "    result = []\n",
    "    while a:\n",
    "        value = a.pop(0)\n",
    "        ins_idx = find_ins_idx(result, value)\n",
    "        print(ins_idx, value)\n",
    "        result.insert(ins_idx, value)\n",
    "    return result\n",
    "\n",
    "d = [2, 4, 5, 1, 3]\n",
    "print(ins_sort(d))\n",
    "\n"
   ]
  },
  {
   "cell_type": "code",
   "execution_count": 2,
   "metadata": {},
   "outputs": [
    {
     "name": "stdout",
     "output_type": "stream",
     "text": [
      "[2, 4, 5, 1, 3]\n",
      "[2, 4, 5, 1, 3]\n",
      "[1, 2, 4, 5, 3]\n",
      "[1, 2, 3, 4, 5]\n",
      "[1, 2, 3, 4, 5]\n"
     ]
    }
   ],
   "source": [
    "# 삽입 정렬 (일반적인 코드)\n",
    "# 입력 : 리스트 a\n",
    "# 출력 : 없음(입력으로 주어진 a가 정렬됨)\n",
    "\n",
    "def ins_sort(a):\n",
    "    n = len(a)\n",
    "    for i in range(1, n):\n",
    "        key = a[i] # i번 위치의 값을 key로 저장\n",
    "        j = i - 1 # j를 i 바로 왼쪽 위치로 저장\n",
    "        while j >= 0 and a[j] > key:\n",
    "            a[j + 1] = a[j]\n",
    "            j -= 1\n",
    "        a[j + 1] = key # 찾은 삽입 위치에 key를 저장\n",
    "        print(a)\n",
    "\n",
    "d = [2, 4, 5, 1, 3]\n",
    "ins_sort(d)\n",
    "print(d)"
   ]
  },
  {
   "cell_type": "code",
   "execution_count": 3,
   "metadata": {},
   "outputs": [
    {
     "name": "stdout",
     "output_type": "stream",
     "text": [
      "[5, 4, 3, 2, 1]\n"
     ]
    }
   ],
   "source": [
    "# 내림차순 삽입 정렬\n",
    "# 입력 : 리스트 a\n",
    "# 출력 : 없음 (입력으로 주어진 a가 정렬됨)\n",
    "def ins_sort(a):\n",
    "    n = len(a)\n",
    "    for i in range(1, n):\n",
    "        key = a[i]\n",
    "        j = i - 1\n",
    "        while j >= 0 and a[j] < key: # 부등호 방향 뒤집기\n",
    "            a[j + 1] = a[j]\n",
    "            j -= 1\n",
    "        a[j + 1] = key\n",
    "        \n",
    "d = [2, 4, 5, 1, 3]\n",
    "ins_sort(d)\n",
    "print(d)"
   ]
  }
 ],
 "metadata": {
  "kernelspec": {
   "display_name": "base",
   "language": "python",
   "name": "python3"
  },
  "language_info": {
   "codemirror_mode": {
    "name": "ipython",
    "version": 3
   },
   "file_extension": ".py",
   "mimetype": "text/x-python",
   "name": "python",
   "nbconvert_exporter": "python",
   "pygments_lexer": "ipython3",
   "version": "3.9.13"
  },
  "orig_nbformat": 4
 },
 "nbformat": 4,
 "nbformat_minor": 2
}
