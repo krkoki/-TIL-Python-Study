{
 "cells": [
  {
   "attachments": {},
   "cell_type": "markdown",
   "metadata": {},
   "source": [
    "절대값 구하기"
   ]
  },
  {
   "cell_type": "code",
   "execution_count": 4,
   "metadata": {},
   "outputs": [
    {
     "name": "stdout",
     "output_type": "stream",
     "text": [
      "5\n",
      "3\n",
      "\n",
      "5\n",
      "3\n"
     ]
    }
   ],
   "source": [
    "import math\n",
    "\n",
    "def abs_sign(a):\n",
    "    if a>=0:\n",
    "        return a\n",
    "    else:\n",
    "        return -a\n",
    "\n",
    "def abs_square(a):\n",
    "    b = a*a\n",
    "    return int(math.sqrt(b))\n",
    "\n",
    "print(abs_sign(5))\n",
    "print(abs_sign(-3))\n",
    "print()\n",
    "print(abs_square(5))\n",
    "print(abs_square(-3))"
   ]
  },
  {
   "attachments": {},
   "cell_type": "markdown",
   "metadata": {},
   "source": [
    "합계 구하기"
   ]
  },
  {
   "cell_type": "code",
   "execution_count": 5,
   "metadata": {},
   "outputs": [
    {
     "name": "stdout",
     "output_type": "stream",
     "text": [
      "55\n",
      "5050\n",
      "\n",
      "55\n",
      "5050\n"
     ]
    }
   ],
   "source": [
    "def totalsum(n):\n",
    "    s = 0\n",
    "    for i in range(1, n+1):\n",
    "        s += i\n",
    "    return s\n",
    "\n",
    "print(totalsum(10))\n",
    "print(totalsum(100))\n",
    "print()\n",
    "# 첫번째 방법 : 덧셈 n회 (숫자가 커질수록 계산 횟수가 늘어남)\n",
    "\n",
    "# 가우스의 방법\n",
    "def gaussum(n):\n",
    "    return n * (n + 1) // 2\n",
    "\n",
    "print(gaussum(10))\n",
    "print(gaussum(100))\n",
    "# 두번째 방법 : 덧셈, 곱셈, 나눗셈 각 1회 총 3회 "
   ]
  },
  {
   "attachments": {},
   "cell_type": "markdown",
   "metadata": {},
   "source": [
    "최대값 구하기"
   ]
  },
  {
   "cell_type": "code",
   "execution_count": 6,
   "metadata": {},
   "outputs": [
    {
     "name": "stdout",
     "output_type": "stream",
     "text": [
      "92\n"
     ]
    }
   ],
   "source": [
    "def find_max(a):\n",
    "    n = len(a) # 입력 크기 n\n",
    "    max_v = a[0] # 리스트의 첫 번째 값을 최대값으로 기억\n",
    "    for i in range(1, n): #1부터 n-1까지 반복\n",
    "        if a[i] > max_v: # 이번 값이 현재까지 기억된 최대값보다 크면\n",
    "            max_v = a[i] # 최대값을 변경\n",
    "    return max_v\n",
    "\n",
    "v = [17, 92, 18, 33, 58, 7, 33, 42]\n",
    "print(find_max(v))\n",
    "# 비교를 n-1회 해야 함\n",
    "# 입력크기와 계산시간이 대체로 비례한다."
   ]
  },
  {
   "cell_type": "code",
   "execution_count": 8,
   "metadata": {},
   "outputs": [
    {
     "name": "stdout",
     "output_type": "stream",
     "text": [
      "1\n"
     ]
    }
   ],
   "source": [
    "def find_max_idx(a):\n",
    "    n = len(a) # 입력크기\n",
    "    max_idx = 0 # 리스트 중 0번의 위치를 일단 최대값 위치로 기억\n",
    "    for i in range(1, n):\n",
    "        if a[i] > a[max_idx]: # 이번 값이 현재까지 기억된 최대값보다 크면\n",
    "            max_idx = i # 최대값의 위치를 변경\n",
    "    return max_idx\n",
    "\n",
    "v = [17, 92, 18, 33, 58, 7, 33, 42]\n",
    "print(find_max_idx(v))"
   ]
  },
  {
   "cell_type": "code",
   "execution_count": 9,
   "metadata": {},
   "outputs": [
    {
     "name": "stdout",
     "output_type": "stream",
     "text": [
      "92\n",
      "1\n"
     ]
    }
   ],
   "source": [
    "import numpy as np\n",
    "v = [17, 92, 18, 33, 58, 7, 33, 42]\n",
    "print(np.max(v))\n",
    "print(np.argmax(v))"
   ]
  }
 ],
 "metadata": {
  "kernelspec": {
   "display_name": "base",
   "language": "python",
   "name": "python3"
  },
  "language_info": {
   "codemirror_mode": {
    "name": "ipython",
    "version": 3
   },
   "file_extension": ".py",
   "mimetype": "text/x-python",
   "name": "python",
   "nbconvert_exporter": "python",
   "pygments_lexer": "ipython3",
   "version": "3.9.13"
  },
  "orig_nbformat": 4
 },
 "nbformat": 4,
 "nbformat_minor": 2
}
