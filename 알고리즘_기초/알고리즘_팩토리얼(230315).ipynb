{
 "cells": [
  {
   "cell_type": "code",
   "execution_count": 1,
   "metadata": {},
   "outputs": [
    {
     "name": "stdout",
     "output_type": "stream",
     "text": [
      "3628800\n"
     ]
    }
   ],
   "source": [
    "# 팩토리얼 (계승)\n",
    "# 연속한 숫자의 곱을 구하는 알고리즘\n",
    "# 입력 : n \n",
    "# 출력 : 1 부터 n 까지 연속한 숫자를 곱한 값\n",
    "\n",
    "import math\n",
    "print(math.factorial(10))"
   ]
  },
  {
   "cell_type": "code",
   "execution_count": 2,
   "metadata": {},
   "outputs": [
    {
     "name": "stdout",
     "output_type": "stream",
     "text": [
      "1\n",
      "120\n",
      "3628800\n"
     ]
    }
   ],
   "source": [
    "# 반복문을 사용한 코드\n",
    "def fact(n):\n",
    "    f = 1 # 곱을 계산할 변수, 초기값은 1\n",
    "    for i in range(1, n + 1): # 1부터 n까지 반복(n + 1은 제외)\n",
    "        f = f * i\n",
    "    return f\n",
    "\n",
    "print(fact(1))\n",
    "print(fact(5))\n",
    "print(fact(10))"
   ]
  },
  {
   "cell_type": "code",
   "execution_count": 4,
   "metadata": {},
   "outputs": [
    {
     "name": "stdout",
     "output_type": "stream",
     "text": [
      "1\n",
      "120\n",
      "3628800\n"
     ]
    }
   ],
   "source": [
    "# 재귀호출 코드\n",
    "def fact(n):\n",
    "    if n <= 1: # 종료 조건 (종료 조건이 없으면 메모리 부족 에러 발생함.)\n",
    "        return 1\n",
    "    return n * fact(n -1)\n",
    "\n",
    "print(fact(1))\n",
    "print(fact(5))\n",
    "print(fact(10))"
   ]
  },
  {
   "cell_type": "code",
   "execution_count": 5,
   "metadata": {},
   "outputs": [
    {
     "name": "stdout",
     "output_type": "stream",
     "text": [
      "55\n",
      "5050\n"
     ]
    }
   ],
   "source": [
    "# 1~n의 합 계산을 재귀호출로 처리\n",
    "# 연속한 숫자의 합을 구하는 알고리즘\n",
    "# : n 입력\n",
    "# : 1 n 출력 부터 까지 연속한 숫자를 더한 합\n",
    "\n",
    "def sum_n(n):\n",
    "    if n == 0:\n",
    "        return 0\n",
    "    return sum_n(n - 1) + n\n",
    "\n",
    "print(sum_n(10))\n",
    "print(sum_n(100))"
   ]
  }
 ],
 "metadata": {
  "kernelspec": {
   "display_name": "base",
   "language": "python",
   "name": "python3"
  },
  "language_info": {
   "codemirror_mode": {
    "name": "ipython",
    "version": 3
   },
   "file_extension": ".py",
   "mimetype": "text/x-python",
   "name": "python",
   "nbconvert_exporter": "python",
   "pygments_lexer": "ipython3",
   "version": "3.9.13"
  },
  "orig_nbformat": 4
 },
 "nbformat": 4,
 "nbformat_minor": 2
}
