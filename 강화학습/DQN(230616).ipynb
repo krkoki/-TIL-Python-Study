{
 "cells": [
  {
   "cell_type": "code",
   "execution_count": 1,
   "metadata": {},
   "outputs": [],
   "source": [
    "# DQN(Deep Q-Network)\n",
    "import gym\n",
    "import numpy as np\n",
    "import torch\n",
    "from torch import nn\n",
    "from torch.autograd import Variable\n",
    "from torch import optim\n",
    "from torch.nn import functional as F\n",
    "\n",
    "# 환경 생성\n",
    "env = gym.make('FrozenLake-v1')"
   ]
  },
  {
   "cell_type": "code",
   "execution_count": 2,
   "metadata": {},
   "outputs": [],
   "source": [
    "# 신경망 구성\n",
    "class Net(nn.Module):\n",
    "    def __init__(self):\n",
    "        super(Net, self).__init__()\n",
    "        self.fc1 = nn.Linear(16, 64)\n",
    "        self.fc2 = nn.Linear(64, 32)\n",
    "        self.fc3 = nn.Linear(32, 16)\n",
    "        self.fc4 = nn.Linear(16, 4)\n",
    "    \n",
    "    def forward(self, x):\n",
    "        x = Variable(x)\n",
    "        x = F.relu(self.fc1(x))\n",
    "        x = F.relu(self.fc2(x))\n",
    "        x = F.relu(self.fc3(x))\n",
    "        x = self.fc4(x)\n",
    "        return x\n",
    "\n",
    "# 인스턴스 생성\n",
    "model  = Net().cuda()"
   ]
  },
  {
   "cell_type": "code",
   "execution_count": 3,
   "metadata": {},
   "outputs": [
    {
     "data": {
      "text/plain": [
       "Net(\n",
       "  (fc1): Linear(in_features=16, out_features=64, bias=True)\n",
       "  (fc2): Linear(in_features=64, out_features=32, bias=True)\n",
       "  (fc3): Linear(in_features=32, out_features=16, bias=True)\n",
       "  (fc4): Linear(in_features=16, out_features=4, bias=True)\n",
       ")"
      ]
     },
     "execution_count": 3,
     "metadata": {},
     "output_type": "execute_result"
    }
   ],
   "source": [
    "model"
   ]
  },
  {
   "cell_type": "code",
   "execution_count": 4,
   "metadata": {},
   "outputs": [],
   "source": [
    "# one-hot 백테를 텐서로 변환\n",
    "def onehot2tensor(state):\n",
    "    tmp = np.zeros(16)\n",
    "    tmp[state] = 1\n",
    "    vector = np.array(tmp, dtype='float32')\n",
    "    tensor = torch.from_numpy(vector).float()\n",
    "    return tensor\n",
    "\n",
    "# 모형에 입력\n",
    "def applymodel(tensor):\n",
    "    output_tensor = model(tensor)\n",
    "    output_tensor = output_tensor.cpu()\n",
    "    output_array = output_tensor.data.numpy()\n",
    "    return output_tensor, output_array"
   ]
  },
  {
   "cell_type": "code",
   "execution_count": 6,
   "metadata": {},
   "outputs": [
    {
     "name": "stdout",
     "output_type": "stream",
     "text": [
      "10 tensor(0.0001) 1.0\n",
      "20 tensor(0.0001) 2.0\n",
      "30 tensor(4.4370e-06) 2.0\n",
      "40 tensor(1.6745e-08) 2.0\n",
      "50 tensor(1.3263e-12) 2.0\n",
      "60 tensor(1.4956e-19) 2.0\n",
      "70 tensor(5.1721e-31) 2.0\n",
      "80 tensor(0.0004) 2.0\n",
      "90 tensor(5.6631e-05) 2.0\n",
      "100 tensor(2.0408e-05) 3.0\n"
     ]
    }
   ],
   "source": [
    "# 총 보상\n",
    "total_reward = 0.0\n",
    "\n",
    "# 손실함수 생성\n",
    "criterion = nn.MSELoss()\n",
    "\n",
    "# 최적화함수 생성\n",
    "optimizer = optim.Adam(model.parameters(), lr=0.01)\n",
    "\n",
    "# 게임 시작\n",
    "for i_episode in range(100):\n",
    "    # 초기화\n",
    "    observation = env.reset()\n",
    "\n",
    "    # 현재 게임의 보상\n",
    "    episode_reward = 0.0\n",
    "\n",
    "    # 오차 누적 계산\n",
    "    total_loss = 0.0\n",
    "    for t in range(100):\n",
    "        # 1턴 실행 후의 위치를 현재 위치로 설정\n",
    "        current_state = observation\n",
    "\n",
    "        # 경사를 초기화\n",
    "        optimizer.zero_grad()\n",
    "\n",
    "        # onehot 벡터를 텐서로 변환\n",
    "        current_tensor = onehot2tensor(current_state)\n",
    "        current_tensor = current_tensor.cuda()\n",
    "\n",
    "        # 모형에 입력\n",
    "        current_output_tensor, current_output_array = applymodel(current_tensor)\n",
    "\n",
    "        # 행동 선택하기\n",
    "        if np.random.rand() < 0.1:\n",
    "            # 무작위로 선택\n",
    "            action = env.action_space.sample()\n",
    "        else:\n",
    "            # Q 값이 최대가 되도록 선택\n",
    "            action = np.argmax(current_output_array)\n",
    "        # 1턴 실행\n",
    "        observation, reward, done, info = env.step(action)\n",
    "\n",
    "        # onehot 벡터를 텐서로 변환\n",
    "        observation_tensor = onehot2tensor(observation)\n",
    "        observation_tensor = observation_tensor.cuda()\n",
    "\n",
    "        # 모형에 입력\n",
    "        observation_output_tensor, observation_output_array = applymodel(observation_tensor)\n",
    "\n",
    "        # Q값 업데이트\n",
    "        q = reward + 0.99 * np.max(observation_output_array)\n",
    "        q_array = np.copy(current_output_array)\n",
    "        q_array[action] = q\n",
    "        q_variable = Variable(torch.Tensor(q_array))\n",
    "        \n",
    "        # 오차 계산\n",
    "        loss = criterion(current_output_tensor, q_variable)\n",
    "        \n",
    "        # 역전파 계산\n",
    "        loss.backward()\n",
    "        \n",
    "        # 가중치 업데이트\n",
    "        optimizer.step()\n",
    "        \n",
    "        # 오차 누적 계산\n",
    "        total_loss += loss.data\n",
    "        \n",
    "        # 종료\n",
    "        if done:\n",
    "            # 현재 게임 보상 누적 계산\n",
    "            episode_reward += reward\n",
    "    # 총 보상 누적 계산\n",
    "    total_reward += episode_reward\n",
    "\n",
    "    # 누적 오차 및 보상을 10게임마다 출력\n",
    "    if (i_episode+1) % 10 == 0:\n",
    "        print(i_episode+1, total_loss, total_reward)\n"
   ]
  },
  {
   "cell_type": "code",
   "execution_count": 7,
   "metadata": {},
   "outputs": [
    {
     "name": "stdout",
     "output_type": "stream",
     "text": [
      "3.0\n",
      "0.03\n"
     ]
    }
   ],
   "source": [
    "# 총 보상을 출력\n",
    "print(total_reward)\n",
    "\n",
    "# 게임당 평균 보상을 출력\n",
    "print(total_reward/100)"
   ]
  },
  {
   "cell_type": "code",
   "execution_count": 11,
   "metadata": {},
   "outputs": [],
   "source": [
    "# 총 보상\n",
    "total_reward = 0.0\n",
    "\n",
    "frames = []\n",
    "# 게임 시작\n",
    "for i_episode in range(1000):\n",
    "\n",
    "    # 초기화\n",
    "    observation = env.reset()\n",
    "\n",
    "    # 현재 게임 보상\n",
    "    episode_reward = 0.0\n",
    "\n",
    "    for t in range(10):\n",
    "        # 1턴 실행 후의 위치를 현재 위치로 삼음\n",
    "        current_state = observation\n",
    "\n",
    "        # one-hot 벡터를 텐서로 변환\n",
    "        current_tensor = onehot2tensor(current_state)\n",
    "        current_tensor = current_tensor.cuda()\n",
    "\n",
    "        # 모형에 입력\n",
    "        current_output_tensor, current_output_array = applymodel(current_tensor)\n",
    "\n",
    "        # Q값이 최대가 되는 행동을 선택\n",
    "        action = np.argmax(current_output_array)\n",
    "\n",
    "        # 1턴 실행\n",
    "        observation, reward, done, info = env.step(action)\n",
    "\n",
    "        # 애니메이션을 위하여 정보 기록\n",
    "        frames.append({\n",
    "            'frame': env.render(mode='ansi'),\n",
    "            'state': observation,\n",
    "            'action': action,\n",
    "            'reward': reward\n",
    "            }\n",
    "        )\n",
    "\n",
    "        # 종료\n",
    "        if done:\n",
    "\n",
    "            # 현재 게임 보상을 누적 계산\n",
    "            episode_reward += reward\n",
    "\n",
    "    # 총 보상을 누적 계산\n",
    "    total_reward += episode_reward"
   ]
  },
  {
   "cell_type": "code",
   "execution_count": 12,
   "metadata": {},
   "outputs": [
    {
     "name": "stdout",
     "output_type": "stream",
     "text": [
      "24.0\n",
      "0.024\n"
     ]
    }
   ],
   "source": [
    "# 총 보상을 출력\n",
    "print(total_reward)\n",
    "\n",
    "# 게임당 평균 보상을 출력\n",
    "print(total_reward/1000)"
   ]
  },
  {
   "cell_type": "code",
   "execution_count": 13,
   "metadata": {},
   "outputs": [
    {
     "name": "stdout",
     "output_type": "stream",
     "text": [
      "  (Down)\n",
      "SFFF\n",
      "F\u001b[41mH\u001b[0mFH\n",
      "FFFH\n",
      "HFFG\n",
      "\n",
      "Timestep: 243\n",
      "State: 5\n",
      "Action: 1\n",
      "Reward: 0\n"
     ]
    },
    {
     "ename": "KeyboardInterrupt",
     "evalue": "",
     "output_type": "error",
     "traceback": [
      "\u001b[1;31m---------------------------------------------------------------------------\u001b[0m",
      "\u001b[1;31mKeyboardInterrupt\u001b[0m                         Traceback (most recent call last)",
      "Cell \u001b[1;32mIn[13], line 14\u001b[0m\n\u001b[0;32m     11\u001b[0m         \u001b[39mprint\u001b[39m(\u001b[39mf\u001b[39m\u001b[39m\"\u001b[39m\u001b[39mReward: \u001b[39m\u001b[39m{\u001b[39;00mframe[\u001b[39m'\u001b[39m\u001b[39mreward\u001b[39m\u001b[39m'\u001b[39m]\u001b[39m}\u001b[39;00m\u001b[39m\"\u001b[39m)\n\u001b[0;32m     12\u001b[0m         sleep(\u001b[39m.1\u001b[39m)\n\u001b[1;32m---> 14\u001b[0m print_frames(frames)\n",
      "Cell \u001b[1;32mIn[13], line 12\u001b[0m, in \u001b[0;36mprint_frames\u001b[1;34m(frames)\u001b[0m\n\u001b[0;32m     10\u001b[0m \u001b[39mprint\u001b[39m(\u001b[39mf\u001b[39m\u001b[39m\"\u001b[39m\u001b[39mAction: \u001b[39m\u001b[39m{\u001b[39;00mframe[\u001b[39m'\u001b[39m\u001b[39maction\u001b[39m\u001b[39m'\u001b[39m]\u001b[39m}\u001b[39;00m\u001b[39m\"\u001b[39m)\n\u001b[0;32m     11\u001b[0m \u001b[39mprint\u001b[39m(\u001b[39mf\u001b[39m\u001b[39m\"\u001b[39m\u001b[39mReward: \u001b[39m\u001b[39m{\u001b[39;00mframe[\u001b[39m'\u001b[39m\u001b[39mreward\u001b[39m\u001b[39m'\u001b[39m]\u001b[39m}\u001b[39;00m\u001b[39m\"\u001b[39m)\n\u001b[1;32m---> 12\u001b[0m sleep(\u001b[39m.1\u001b[39;49m)\n",
      "\u001b[1;31mKeyboardInterrupt\u001b[0m: "
     ]
    }
   ],
   "source": [
    "from IPython.display import clear_output\n",
    "from time import sleep\n",
    "\n",
    "def print_frames(frames):\n",
    "    for i, frame in enumerate(frames):\n",
    "        clear_output(wait=True)\n",
    "        print(frame['frame'])\n",
    "        print(f\"Timestep: {i + 1}\")\n",
    "        print(f\"State: {frame['state']}\")\n",
    "        print(f\"Action: {frame['action']}\")\n",
    "        print(f\"Reward: {frame['reward']}\")\n",
    "        sleep(.1)\n",
    "        \n",
    "print_frames(frames)"
   ]
  }
 ],
 "metadata": {
  "kernelspec": {
   "display_name": "base",
   "language": "python",
   "name": "python3"
  },
  "language_info": {
   "codemirror_mode": {
    "name": "ipython",
    "version": 3
   },
   "file_extension": ".py",
   "mimetype": "text/x-python",
   "name": "python",
   "nbconvert_exporter": "python",
   "pygments_lexer": "ipython3",
   "version": "3.9.16"
  },
  "orig_nbformat": 4
 },
 "nbformat": 4,
 "nbformat_minor": 2
}
